{
 "cells": [
  {
   "cell_type": "markdown",
   "metadata": {},
   "source": [
    "**字符串研究**"
   ]
  },
  {
   "cell_type": "code",
   "execution_count": null,
   "metadata": {},
   "outputs": [],
   "source": [
    "# 如何修剪字符两段的空白字符？\n",
    "name = ' John Doe '\n",
    "\n"
   ]
  },
  {
   "cell_type": "code",
   "execution_count": null,
   "metadata": {},
   "outputs": [],
   "source": [
    "# Python 有几个转换大小写的方法？\n",
    "\n",
    "sText = 'Hello my World'\n"
   ]
  },
  {
   "cell_type": "code",
   "execution_count": null,
   "metadata": {},
   "outputs": [],
   "source": [
    "# 如何替换字符串中的一些字符？\n",
    "\n",
    "name = '张3、李4' # 改为：三、四\n",
    "\n",
    "\n"
   ]
  },
  {
   "cell_type": "code",
   "execution_count": null,
   "metadata": {},
   "outputs": [],
   "source": [
    "# 如何截取字符？\n",
    "# 取头几个，取尾几个，取中间几个\n",
    "\n",
    "myStr = '零一二三四五六七八九十'\n",
    "\n",
    "print('头尾字符：')\n",
    "print('头尾若干字符：')\n",
    "\n",
    "print('取任意一段字符：')\n",
    "print('取任意一段字符：') # 跳跃截取\n",
    "\n"
   ]
  },
  {
   "cell_type": "code",
   "execution_count": null,
   "metadata": {},
   "outputs": [],
   "source": [
    "# 字符与列表如何互相转列？\n",
    "# 有两个方法与 js 中的方法名相同，是哪两个？\n",
    "l01 = ['Tom', 'Jack', 'Jacky']\n",
    "s01 = '张三 李四 王五 赵六'\n",
    "\n",
    "print('转列表：')\n",
    "\n",
    "# 列表转字符（当列表包含非法成员怎么办？）\n",
    "\n",
    "print('列表-转字符')\n",
    "print('元组-转字符')\n",
    "print('集合-转字符')\n"
   ]
  }
 ],
 "metadata": {
  "interpreter": {
   "hash": "3196968d684371006099b3d55edeef8ed90365227a30deaef86e5d4aa8519be0"
  },
  "kernelspec": {
   "display_name": "Python 3.10.2 64-bit",
   "language": "python",
   "name": "python3"
  },
  "language_info": {
   "codemirror_mode": {
    "name": "ipython",
    "version": 3
   },
   "file_extension": ".py",
   "mimetype": "text/x-python",
   "name": "python",
   "nbconvert_exporter": "python",
   "pygments_lexer": "ipython3",
   "version": "3.10.2"
  },
  "orig_nbformat": 4
 },
 "nbformat": 4,
 "nbformat_minor": 2
}
