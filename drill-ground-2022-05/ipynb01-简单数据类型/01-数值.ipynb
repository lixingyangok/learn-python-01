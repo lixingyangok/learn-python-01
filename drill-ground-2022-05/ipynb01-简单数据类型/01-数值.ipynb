{
 "cells": [
  {
   "cell_type": "markdown",
   "metadata": {},
   "source": [
    "**数值类型**"
   ]
  },
  {
   "cell_type": "code",
   "execution_count": 1,
   "metadata": {},
   "outputs": [
    {
     "name": "stdout",
     "output_type": "stream",
     "text": [
      "1234\n",
      "1234.567\n",
      "\n",
      "<class 'int'> <class 'float'>\n",
      "<class 'int'> <class 'float'>\n"
     ]
    }
   ],
   "source": [
    "# 如何判断一个数值是整形和浮点型（人类/程序视角）\n",
    "\n",
    "\n"
   ]
  },
  {
   "cell_type": "code",
   "execution_count": 9,
   "metadata": {},
   "outputs": [
    {
     "name": "stdout",
     "output_type": "stream",
     "text": [
      "下退： 3\n",
      "下退： 3\n",
      "下退： 3\n",
      "上进一法： 4\n",
      "== 下退三途，上进一法 =========\n",
      "\n",
      "伪四舍五入： 3\n",
      "伪四舍五入： 4\n"
     ]
    }
   ],
   "source": [
    "# 如何取整？\n",
    "# -- 下退三途，上进一法 --------\n",
    "\n"
   ]
  },
  {
   "cell_type": "code",
   "execution_count": 17,
   "metadata": {},
   "outputs": [
    {
     "name": "stdout",
     "output_type": "stream",
     "text": [
      "原始数值： 3.14159   18.0\n",
      "保留 2 位小数： 3.14\n",
      "保留 2 位小数： 18.0\n",
      "---------------------------------\n",
      "保留 2 位小数： 18.00\n",
      "保留 2 位小数： 18.00\n"
     ]
    }
   ],
   "source": [
    "'''\n",
    "1、如何保留x位小数？\n",
    "2、同上，且将小数点后的仅有的若干零的保留\n",
    "\n",
    "'''\n"
   ]
  },
  {
   "cell_type": "code",
   "execution_count": 105,
   "metadata": {},
   "outputs": [
    {
     "name": "stdout",
     "output_type": "stream",
     "text": [
      "类JS方式 0.4088846832778228\n",
      "定制加强版 5.01178572428547\n",
      "\n",
      "取得随机整数 1\n",
      "取得随机整数-特定间隔 26\n"
     ]
    }
   ],
   "source": [
    "# 如何取得随机数？\n",
    "'''\n",
    "1、类js方式\n",
    "2、指定结果范围\n",
    "3、仅要整数\n",
    "4、只要奇/偶数\n",
    "'''\n",
    "\n"
   ]
  },
  {
   "cell_type": "code",
   "execution_count": 107,
   "metadata": {},
   "outputs": [
    {
     "name": "stdout",
     "output_type": "stream",
     "text": [
      "\n",
      "随机选择 BB\n",
      "旧列表为 [21, 23, 25, 27, 29, 31, 33, 35, 37, 39]\n",
      "无返回值 None\n",
      "新列表为 [33, 29, 27, 39, 37, 35, 21, 25, 31, 23]\n"
     ]
    }
   ],
   "source": [
    "# random 包的其它功能（处理数组）\n",
    "'''\n",
    "1、翻拍选妃\n",
    "2、洗牌\n",
    "'''\n",
    "\n",
    "\n"
   ]
  }
 ],
 "metadata": {
  "interpreter": {
   "hash": "3196968d684371006099b3d55edeef8ed90365227a30deaef86e5d4aa8519be0"
  },
  "kernelspec": {
   "display_name": "Python 3.10.2 64-bit",
   "language": "python",
   "name": "python3"
  },
  "language_info": {
   "codemirror_mode": {
    "name": "ipython",
    "version": 3
   },
   "file_extension": ".py",
   "mimetype": "text/x-python",
   "name": "python",
   "nbconvert_exporter": "python",
   "pygments_lexer": "ipython3",
   "version": "3.10.2"
  },
  "orig_nbformat": 4
 },
 "nbformat": 4,
 "nbformat_minor": 2
}
