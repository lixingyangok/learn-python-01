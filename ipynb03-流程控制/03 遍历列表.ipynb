{
 "cells": [
  {
   "cell_type": "markdown",
   "metadata": {},
   "source": [
    "**遍历列表，元素，set**"
   ]
  },
  {
   "cell_type": "code",
   "execution_count": 4,
   "metadata": {},
   "outputs": [
    {
     "name": "stdout",
     "output_type": "stream",
     "text": [
      "1, 2, 3, \n",
      "A, B, C, \n",
      "Are, You, How, \n"
     ]
    }
   ],
   "source": [
    "list01 = [1,2,3]\n",
    "tuple01 = ('A','B','C')\n",
    "set01 = {'How', 'Are', 'You'}\n",
    "\n",
    "for cur in list01:\n",
    "    print(cur, end=', ')\n",
    "print()\n",
    "\n",
    "for cur in tuple01:\n",
    "    print(cur, end=', ')\n",
    "print()\n",
    "\n",
    "for cur in set01:\n",
    "    print(cur, end=', ')\n",
    "print()\n"
   ]
  },
  {
   "cell_type": "code",
   "execution_count": 11,
   "metadata": {},
   "outputs": [
    {
     "name": "stdout",
     "output_type": "stream",
     "text": [
      "0=1,   1=2,   2=3,   \n",
      "0=A,   1=B,   2=C,   \n",
      "0=Are,   1=You,   2=How,   \n"
     ]
    }
   ],
   "source": [
    "# enumerate\n",
    "\n",
    "for idx, cur in enumerate(list01):\n",
    "    print(f'{idx}={cur}', end=',   ')\n",
    "print()\n",
    "\n",
    "for idx, cur in enumerate(tuple01):\n",
    "    print(f'{idx}={cur}', end=',   ')\n",
    "print()\n",
    "\n",
    "for idx, cur in enumerate(set01):\n",
    "    print(f'{idx}={cur}', end=',   ')\n",
    "print()\n"
   ]
  }
 ],
 "metadata": {
  "interpreter": {
   "hash": "4e0b39fdc4f2df2992ef135d097972ec225e019845a073717c5b1bc8df292c8a"
  },
  "kernelspec": {
   "display_name": "Python 3.10.2 64-bit",
   "language": "python",
   "name": "python3"
  },
  "language_info": {
   "codemirror_mode": {
    "name": "ipython",
    "version": 3
   },
   "file_extension": ".py",
   "mimetype": "text/x-python",
   "name": "python",
   "nbconvert_exporter": "python",
   "pygments_lexer": "ipython3",
   "version": "3.10.2"
  },
  "orig_nbformat": 4
 },
 "nbformat": 4,
 "nbformat_minor": 2
}
