{
 "cells": [
  {
   "cell_type": "markdown",
   "metadata": {},
   "source": [
    "### 函数注解"
   ]
  },
  {
   "cell_type": "code",
   "execution_count": 2,
   "metadata": {},
   "outputs": [
    {
     "name": "stdout",
     "output_type": "stream",
     "text": [
      "hello\n"
     ]
    }
   ],
   "source": [
    "# 如何描述函数的入参和出参的数据类型？\n",
    "def showIt(num: int) -> float:\n",
    "    print(num)\n",
    "\n",
    "# 声明时的描述丝毫不会影响函数的使用方式\n",
    "showIt('hello')\n"
   ]
  },
  {
   "cell_type": "code",
   "execution_count": 4,
   "metadata": {},
   "outputs": [
    {
     "name": "stdout",
     "output_type": "stream",
     "text": [
      "(1, 2, 3)\n",
      "{'name': 'John Doe', 'age': 18}\n"
     ]
    }
   ],
   "source": [
    "# 如何使用星号符?\n",
    "\n",
    "def f01(*args, **kwargs):\n",
    "    print(args) # 入参封包为元组 tuple\n",
    "    print(kwargs) # 键值对形式的入参封包为字典\n",
    "\n",
    "\n",
    "f01(1,2,3, name='John Doe', age=18)\n",
    "\n",
    "\n",
    " \n"
   ]
  },
  {
   "cell_type": "code",
   "execution_count": 11,
   "metadata": {},
   "outputs": [
    {
     "name": "stdout",
     "output_type": "stream",
     "text": [
      "====================\n",
      "Hello, John Doe\n",
      "====================\n"
     ]
    }
   ],
   "source": [
    "# 如何使用装饰器\n",
    "\n",
    "def putOnClothes(oldFn):\n",
    "    def newFn(sName):\n",
    "        print('=' * 20)\n",
    "        oldFn(sName)\n",
    "        print('=' * 20)\n",
    "    return newFn\n",
    "\n",
    "@putOnClothes\n",
    "def sayHello(sName):\n",
    "    print('Hello,', sName)\n",
    "\n",
    "sayHello('John Doe')\n",
    "\n"
   ]
  }
 ],
 "metadata": {
  "interpreter": {
   "hash": "3196968d684371006099b3d55edeef8ed90365227a30deaef86e5d4aa8519be0"
  },
  "kernelspec": {
   "display_name": "Python 3.10.2 64-bit",
   "language": "python",
   "name": "python3"
  },
  "language_info": {
   "codemirror_mode": {
    "name": "ipython",
    "version": 3
   },
   "file_extension": ".py",
   "mimetype": "text/x-python",
   "name": "python",
   "nbconvert_exporter": "python",
   "pygments_lexer": "ipython3",
   "version": "3.10.2"
  },
  "orig_nbformat": 4
 },
 "nbformat": 4,
 "nbformat_minor": 2
}
