{
 "cells": [
  {
   "cell_type": "code",
   "execution_count": 47,
   "metadata": {},
   "outputs": [
    {
     "name": "stdout",
     "output_type": "stream",
     "text": [
      "出错了~~\n"
     ]
    }
   ],
   "source": [
    "# 最简单的捕获报错实例\n",
    "# 除外，例外： except, exception \n",
    "# 期待，期待： expect, expectation\n",
    "\n",
    "try:\n",
    "    f1 = lambda xx : 10 / int(xx)\n",
    "    result = f1(0) # 传 0 会报错\n",
    "    print('执行无错：', result)\n",
    "except:\n",
    "    print('出错了~~')\n"
   ]
  },
  {
   "cell_type": "code",
   "execution_count": 63,
   "metadata": {},
   "outputs": [
    {
     "name": "stdout",
     "output_type": "stream",
     "text": [
      "开始\n",
      "3\n",
      "执行没错才会打印\n"
     ]
    }
   ],
   "source": [
    "# 打印出任意异常（未知异常/未预见异常）类型\n",
    "\n",
    "try:\n",
    "    print('开始')\n",
    "    list01 = [\n",
    "        lambda aa=1, bb=2: print('结果是', aa + bb),\n",
    "        lambda : open('123.txt', 'r'),\n",
    "        lambda : open(123, 'r'),\n",
    "    ]\n",
    "    list01[0]()\n",
    "except Exception as err:\n",
    "    print('有错：')\n",
    "    print(err)\n",
    "else:\n",
    "    print('执行没错才会打印')\n",
    "\n"
   ]
  },
  {
   "cell_type": "code",
   "execution_count": 74,
   "metadata": {},
   "outputs": [
    {
     "name": "stdout",
     "output_type": "stream",
     "text": [
      "未知异常： division by zero\n"
     ]
    }
   ],
   "source": [
    "\n",
    "try:\n",
    "    xx = 1 / 0\n",
    "    print(abc)\n",
    "    open('123.txt', 'r')\n",
    "    # ▲上方的几个报错，下方的 except 只能捕获到“最先发生的”那一个\n",
    "except (NameError, FileNotFoundError) as err:\n",
    "    # print('捕获异常类型：%s' % err)\n",
    "    # 如果发生了此处预期的2类报错之外的报错，会在此行放，由下方的语句捕获\n",
    "    # 如果下方没有语句捕获它，会报错！！！！1\n",
    "    print('捕获异常类型：', err)\n",
    "except Exception as err:\n",
    "    print('未知异常：', err)\n"
   ]
  },
  {
   "cell_type": "code",
   "execution_count": 17,
   "metadata": {},
   "outputs": [
    {
     "name": "stdout",
     "output_type": "stream",
     "text": [
      "开始：\n",
      "结果： 10.0\n",
      "没有出错会执行的代码\n",
      "是否有错都会执行的代码\n"
     ]
    }
   ],
   "source": [
    "try:\n",
    "    print('开始：')\n",
    "    print('运算结果：', 10 / int('1'))\n",
    "except ValueError as eer:\n",
    "    print('出错：ValueError:', eer)\n",
    "except ZeroDivisionError as eer:\n",
    "    print('出错：ZeroDivision:', eer)\n",
    "except:\n",
    "    # 这种全类型捕获还是很重要的！\n",
    "    # 它会捕获上方未能捕获到的异常！\n",
    "    print('未知错误')\n",
    "else:\n",
    "    print('没有出错才会执行的代码')\n",
    "finally:\n",
    "    print('有错，没错，此处代码都会执行')\n",
    "\n"
   ]
  }
 ],
 "metadata": {
  "interpreter": {
   "hash": "4e0b39fdc4f2df2992ef135d097972ec225e019845a073717c5b1bc8df292c8a"
  },
  "kernelspec": {
   "display_name": "Python 3.10.2 64-bit",
   "language": "python",
   "name": "python3"
  },
  "language_info": {
   "codemirror_mode": {
    "name": "ipython",
    "version": 3
   },
   "file_extension": ".py",
   "mimetype": "text/x-python",
   "name": "python",
   "nbconvert_exporter": "python",
   "pygments_lexer": "ipython3",
   "version": "3.10.2"
  },
  "orig_nbformat": 4
 },
 "nbformat": 4,
 "nbformat_minor": 2
}
