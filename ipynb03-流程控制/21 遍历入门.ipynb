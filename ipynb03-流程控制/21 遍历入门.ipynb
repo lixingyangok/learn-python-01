{
 "cells": [
  {
   "cell_type": "markdown",
   "metadata": {},
   "source": [
    "**循环入门**  "
   ]
  },
  {
   "cell_type": "code",
   "execution_count": 2,
   "metadata": {},
   "outputs": [
    {
     "name": "stdout",
     "output_type": "stream",
     "text": [
      "0, 1, 2, 3, 4, \n",
      "6, 7, 8, \n",
      "0, 2, 4, \n",
      "A, B, C, \n"
     ]
    }
   ],
   "source": [
    "#\n",
    "for idx in range(5): # 遍历5次，打印 0 - 4\n",
    "    print(idx, end=\", \")\n",
    "print()\n",
    "\n",
    "for idx in range(6, 9): # 打印 6, 7, 8 (无9)\n",
    "    print(idx, end=\", \")\n",
    "print()\n",
    "\n",
    "for idx in range(0, 6, 2): # 0, 2, 4\n",
    "    print(idx, end=\", \")\n",
    "print()\n",
    "\n",
    "for cur in 'ABC':\n",
    "    print(cur, end=\", \")\n",
    "print()\n"
   ]
  },
  {
   "cell_type": "code",
   "execution_count": 7,
   "metadata": {},
   "outputs": [
    {
     "name": "stdout",
     "output_type": "stream",
     "text": [
      "0=0,   0=1,   0=2,   \n",
      "1=0,   1=1,   1=2,   \n",
      "2=0,   2=1,   2=2,   \n"
     ]
    }
   ],
   "source": [
    "# 关于多层循环\n",
    "for i1 in range(3):\n",
    "    for i2 in range(3):\n",
    "        print(f'{i1}={i2}', end=',   ')\n",
    "    print()\n"
   ]
  },
  {
   "cell_type": "code",
   "execution_count": 20,
   "metadata": {},
   "outputs": [
    {
     "name": "stdout",
     "output_type": "stream",
     "text": [
      "A=0,   A=2,   \n",
      "B=0,   B=2,   \n",
      "---------------------------------\n",
      "A=0,   \n",
      "B=0,   \n",
      "---------------------------------\n",
      "A=0,   "
     ]
    },
    {
     "data": {
      "text/plain": [
       "'Over'"
      ]
     },
     "execution_count": 20,
     "metadata": {},
     "output_type": "execute_result"
    }
   ],
   "source": [
    "# continue\n",
    "for i1 in 'AB':\n",
    "    for i2 in range(3):\n",
    "        if i2 == 1: continue\n",
    "        print(f'{i1}={i2}', end=',   ')\n",
    "    print()\n",
    "print('-'*33)\n",
    "\n",
    "# break\n",
    "for i1 in 'AB':\n",
    "    for i2 in range(3):\n",
    "        if i2 == 1: break\n",
    "        print(f'{i1}={i2}', end=',   ')\n",
    "    print()\n",
    "print('-'*33)\n",
    "\n",
    "# return\n",
    "def toPrint():\n",
    "    for i1 in 'AB':\n",
    "        for i2 in range(3):\n",
    "            if i2 == 1: return 'Over'\n",
    "            print(f'{i1}={i2}', end=',   ')\n",
    "        print()\n",
    "toPrint()\n"
   ]
  }
 ],
 "metadata": {
  "interpreter": {
   "hash": "4e0b39fdc4f2df2992ef135d097972ec225e019845a073717c5b1bc8df292c8a"
  },
  "kernelspec": {
   "display_name": "Python 3.10.2 64-bit",
   "language": "python",
   "name": "python3"
  },
  "language_info": {
   "codemirror_mode": {
    "name": "ipython",
    "version": 3
   },
   "file_extension": ".py",
   "mimetype": "text/x-python",
   "name": "python",
   "nbconvert_exporter": "python",
   "pygments_lexer": "ipython3",
   "version": "3.10.2"
  },
  "orig_nbformat": 4
 },
 "nbformat": 4,
 "nbformat_minor": 2
}
