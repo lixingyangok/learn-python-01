{
 "cells": [
  {
   "cell_type": "markdown",
   "metadata": {},
   "source": [
    "### 封包与解包，星号与"
   ]
  },
  {
   "cell_type": "code",
   "execution_count": 7,
   "metadata": {},
   "outputs": [
    {
     "name": "stdout",
     "output_type": "stream",
     "text": [
      "\n",
      "● 列表如何解包\n",
      "first: 0\n",
      " rest: []\n"
     ]
    }
   ],
   "source": [
    "print('\\n● 列表如何解包')\n",
    "list01 = [0, 1, 2, 3, 4, 5]\n",
    "list01 = [] # 会出错\n",
    "list01 = [0] # 没错\n",
    "first, *rest = list01\n",
    "print('first:', first)\n",
    "print(' rest:', rest)\n",
    "\n",
    "\n",
    "\n"
   ]
  },
  {
   "cell_type": "code",
   "execution_count": 8,
   "metadata": {},
   "outputs": [
    {
     "name": "stdout",
     "output_type": "stream",
     "text": [
      "\n",
      "● 字典如何解包\n",
      "字典解包取键不取值： name age\n"
     ]
    }
   ],
   "source": [
    "print('\\n● 字典如何解包')\n",
    "d01 = {'name': 'John Doe', 'age': 18}\n",
    "aa, bb = d01\n",
    "print('字典解包取键不取值：', aa, bb)\n",
    "\n"
   ]
  }
 ],
 "metadata": {
  "interpreter": {
   "hash": "3196968d684371006099b3d55edeef8ed90365227a30deaef86e5d4aa8519be0"
  },
  "kernelspec": {
   "display_name": "Python 3.10.2 64-bit",
   "language": "python",
   "name": "python3"
  },
  "language_info": {
   "codemirror_mode": {
    "name": "ipython",
    "version": 3
   },
   "file_extension": ".py",
   "mimetype": "text/x-python",
   "name": "python",
   "nbconvert_exporter": "python",
   "pygments_lexer": "ipython3",
   "version": "3.10.2"
  },
  "orig_nbformat": 4
 },
 "nbformat": 4,
 "nbformat_minor": 2
}
