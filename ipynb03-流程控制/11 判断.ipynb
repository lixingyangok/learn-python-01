{
 "cells": [
  {
   "cell_type": "markdown",
   "metadata": {},
   "source": [
    "判断"
   ]
  },
  {
   "cell_type": "code",
   "execution_count": 5,
   "metadata": {},
   "outputs": [
    {
     "name": "stdout",
     "output_type": "stream",
     "text": [
      "三重判断\n",
      "多重判断\n",
      "多重判断\n"
     ]
    }
   ],
   "source": [
    "# 如何使用三连判断？\n",
    "\n",
    "if 0 == 0 == 0: \n",
    "    print('三重判断')\n",
    "if 1 < 2 < 3 < 4:\n",
    "    print('多重判断')\n",
    "if 0 == 0 == 0 == 0 == 0: \n",
    "    print('多重判断')\n",
    "\n"
   ]
  },
  {
   "cell_type": "code",
   "execution_count": 7,
   "metadata": {},
   "outputs": [
    {
     "name": "stdout",
     "output_type": "stream",
     "text": [
      "打印： 1\n",
      "打印： 0\n"
     ]
    }
   ],
   "source": [
    "# 如何取反？\n",
    "\n",
    "val = 1\n",
    "nilVal = 0\n",
    "\n",
    "if 1:\n",
    "    print('打印：', 1)\n",
    "if not 0:\n",
    "    print('打印：', 0)\n",
    "\n"
   ]
  },
  {
   "cell_type": "code",
   "execution_count": 26,
   "metadata": {},
   "outputs": [
    {
     "name": "stdout",
     "output_type": "stream",
     "text": [
      "随机数："
     ]
    }
   ],
   "source": [
    "# 如何使用海象符号？\n",
    "\n",
    "import random\n",
    "\n",
    "print('随机数：', end='')\n",
    "if (n01 := random.randint(0, 9)) > 3:\n",
    "    print(n01)\n",
    "\n"
   ]
  }
 ],
 "metadata": {
  "interpreter": {
   "hash": "4e0b39fdc4f2df2992ef135d097972ec225e019845a073717c5b1bc8df292c8a"
  },
  "kernelspec": {
   "display_name": "Python 3.10.2 64-bit",
   "language": "python",
   "name": "python3"
  },
  "language_info": {
   "codemirror_mode": {
    "name": "ipython",
    "version": 3
   },
   "file_extension": ".py",
   "mimetype": "text/x-python",
   "name": "python",
   "nbconvert_exporter": "python",
   "pygments_lexer": "ipython3",
   "version": "3.10.2"
  },
  "orig_nbformat": 4
 },
 "nbformat": 4,
 "nbformat_minor": 2
}
