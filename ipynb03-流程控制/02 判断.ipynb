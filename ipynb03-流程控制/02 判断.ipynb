{
 "cells": [
  {
   "cell_type": "markdown",
   "metadata": {},
   "source": [
    "判断"
   ]
  },
  {
   "cell_type": "code",
   "execution_count": 11,
   "metadata": {},
   "outputs": [
    {
     "name": "stdout",
     "output_type": "stream",
     "text": [
      "id =  2563100311792 2563100311792\n",
      "a is b\n",
      "id =  2563176453440 2563176258944\n",
      "a is not b\n"
     ]
    }
   ],
   "source": [
    "# is 判断如何使用 \n",
    "aa = 1\n",
    "bb = 1\n",
    "print(\"id = \", id(aa), id(bb))\n",
    "if(aa is bb): # 其本质是对两个对象 id 进行的判断，即对象的内存地址\n",
    "    print(\"a is b\")\n",
    "\n",
    "\n",
    "aa = [1,2,3]\n",
    "bb = [1,2,3]\n",
    "print(\"id = \", id(aa), id(bb))\n",
    "if aa is not bb:\n",
    "    print(\"a is not b\")\n",
    "\n"
   ]
  },
  {
   "cell_type": "code",
   "execution_count": 3,
   "metadata": {},
   "outputs": [
    {
     "name": "stdout",
     "output_type": "stream",
     "text": [
      "三重判断\n",
      "多重判断\n",
      "多重判断\n",
      "yes\n",
      "yes\n",
      "yes\n"
     ]
    }
   ],
   "source": [
    "# 如何使用多重判断？\n",
    "\n",
    "if 0 == 0 == 0: \n",
    "    print('三重判断')\n",
    "if 1 < 2 < 3 < 4:\n",
    "    print('多重判断')\n",
    "if 0 == 0 == 0 == 0 == 0: \n",
    "    print('多重判断')\n",
    "\n",
    "print('yes') if 2 > 1 else ... # 合法语句\n",
    "print('yes') if 2 > 1 else print('no')\n",
    "print('yes' if 2 > 1 else 'no') \n",
    "\n",
    "\n"
   ]
  },
  {
   "cell_type": "code",
   "execution_count": 15,
   "metadata": {},
   "outputs": [
    {
     "name": "stdout",
     "output_type": "stream",
     "text": [
      "打印1： 1\n",
      "打印1： 0\n",
      "取反 * 1 = False\n",
      "取反 * 2 = True\n"
     ]
    }
   ],
   "source": [
    "# 如何取反？\n",
    "\n",
    "val = 1\n",
    "bVal = True\n",
    "nilVal = 0\n",
    "\n",
    "if 1:\n",
    "    print('打印1：', 1)\n",
    "if not 0:\n",
    "    print('打印1：', 0)\n",
    "\n",
    "print('取反 * 1 =', not bVal)\n",
    "print('取反 * 2 =', not not bVal)\n",
    "\n"
   ]
  },
  {
   "cell_type": "code",
   "execution_count": 26,
   "metadata": {},
   "outputs": [
    {
     "name": "stdout",
     "output_type": "stream",
     "text": [
      "随机数："
     ]
    }
   ],
   "source": [
    "# 如何使用海象符号？\n",
    "\n",
    "import random\n",
    "\n",
    "print('随机数：', end='')\n",
    "if (n01 := random.randint(0, 9)) > 3:\n",
    "    print(n01)\n",
    "\n"
   ]
  }
 ],
 "metadata": {
  "interpreter": {
   "hash": "3196968d684371006099b3d55edeef8ed90365227a30deaef86e5d4aa8519be0"
  },
  "kernelspec": {
   "display_name": "Python 3.10.2 64-bit",
   "language": "python",
   "name": "python3"
  },
  "language_info": {
   "codemirror_mode": {
    "name": "ipython",
    "version": 3
   },
   "file_extension": ".py",
   "mimetype": "text/x-python",
   "name": "python",
   "nbconvert_exporter": "python",
   "pygments_lexer": "ipython3",
   "version": "3.10.2"
  },
  "orig_nbformat": 4
 },
 "nbformat": 4,
 "nbformat_minor": 2
}
