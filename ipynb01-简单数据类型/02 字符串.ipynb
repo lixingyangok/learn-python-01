{
 "cells": [
  {
   "cell_type": "markdown",
   "metadata": {},
   "source": [
    "**字符串研究**"
   ]
  },
  {
   "cell_type": "code",
   "execution_count": 5,
   "metadata": {},
   "outputs": [
    {
     "name": "stdout",
     "output_type": "stream",
     "text": [
      "Hello World\n",
      "Let's Go\n",
      "天地玄黄\n",
      "宇宙洪荒\n"
     ]
    }
   ],
   "source": [
    "# 字符器的声明\n",
    "\n",
    "s1 = 'Hello World'\n",
    "s2 = \"Let's Go\"\n",
    "# 多行字符串\n",
    "s3 = '''\n",
    "天地玄黄\n",
    "宇宙洪荒\n",
    "'''.strip()\n",
    "\n",
    "print(s1)\n",
    "print(s2)\n",
    "print(s3)\n"
   ]
  },
  {
   "cell_type": "code",
   "execution_count": 26,
   "metadata": {},
   "outputs": [
    {
     "name": "stdout",
     "output_type": "stream",
     "text": [
      "Hi, Mr Li\n",
      "I'm John, 18 years old\n",
      "The sum is = 9\n"
     ]
    }
   ],
   "source": [
    "origin01 = 'Hi, {}'\n",
    "origin02 = 'I\\'m {name}, {age} years old'\n",
    "format01 = origin01.format('Mr Li')\n",
    "format02 = origin02.format(**{'name': 'John', 'age': 18})\n",
    "print(format01)\n",
    "print(format02)\n",
    "\n",
    "format11 = f'The sum is = {3*3}'\n",
    "print(format11)\n"
   ]
  },
  {
   "cell_type": "code",
   "execution_count": 27,
   "metadata": {},
   "outputs": [
    {
     "name": "stdout",
     "output_type": "stream",
     "text": [
      "hello world\n",
      "HELLO WORLD\n",
      "Hello world\n"
     ]
    }
   ],
   "source": [
    "# 大小写研究\n",
    "print(s1.lower())\n",
    "print(s1.upper())\n",
    "print(s1.capitalize())\n"
   ]
  },
  {
   "cell_type": "code",
   "execution_count": 12,
   "metadata": {},
   "outputs": [
    {
     "name": "stdout",
     "output_type": "stream",
     "text": [
      "True\n",
      "True\n",
      "---------------------------------\n",
      "True\n",
      "False\n",
      "---------------------------------\n",
      "False\n",
      "True\n"
     ]
    }
   ],
   "source": [
    "# 包含性研究\n",
    "\n",
    "HelloWorld = 'HelloWorld'\n",
    "print(HelloWorld.startswith('Hello'))\n",
    "print(HelloWorld.endswith('World'))\n",
    "print('-'*33)\n",
    "\n",
    "familyNames = ('张', '李')\n",
    "print('李三'.startswith(familyNames))\n",
    "print('欧阳三'.startswith(familyNames))\n",
    "print('-'*33)\n",
    "\n",
    "print('You' in 'How Are You') # True\n",
    "print('you' in 'How Are You') # False\n",
    "print('How Are You') # False\n",
    "\n"
   ]
  },
  {
   "cell_type": "code",
   "execution_count": 28,
   "metadata": {},
   "outputs": [
    {
     "name": "stdout",
     "output_type": "stream",
     "text": [
      "-1\n",
      "1\n"
     ]
    }
   ],
   "source": [
    "# 位置信息研究\n",
    "\n",
    "print('ABC'.find('b')) # -1\n",
    "print('ABC'.find('B')) # 1\n",
    "\n"
   ]
  }
 ],
 "metadata": {
  "interpreter": {
   "hash": "4e0b39fdc4f2df2992ef135d097972ec225e019845a073717c5b1bc8df292c8a"
  },
  "kernelspec": {
   "display_name": "Python 3.10.2 64-bit",
   "language": "python",
   "name": "python3"
  },
  "language_info": {
   "codemirror_mode": {
    "name": "ipython",
    "version": 3
   },
   "file_extension": ".py",
   "mimetype": "text/x-python",
   "name": "python",
   "nbconvert_exporter": "python",
   "pygments_lexer": "ipython3",
   "version": "3.10.2"
  },
  "orig_nbformat": 4
 },
 "nbformat": 4,
 "nbformat_minor": 2
}
