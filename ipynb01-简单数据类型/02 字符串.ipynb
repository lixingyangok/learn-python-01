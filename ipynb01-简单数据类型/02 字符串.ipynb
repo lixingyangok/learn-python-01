{
 "cells": [
  {
   "cell_type": "markdown",
   "metadata": {},
   "source": [
    "**字符串研究**"
   ]
  },
  {
   "cell_type": "code",
   "execution_count": 5,
   "metadata": {},
   "outputs": [
    {
     "name": "stdout",
     "output_type": "stream",
     "text": [
      "Hello World\n",
      "Let's Go\n",
      "天地玄黄\n",
      "宇宙洪荒\n"
     ]
    }
   ],
   "source": [
    "# 声明 3 法\n",
    "\n",
    "s1 = 'Hello World'\n",
    "s2 = \"Let's Go\"\n",
    "# 多行字符串\n",
    "s3 = '''\n",
    "天地玄黄\n",
    "宇宙洪荒\n",
    "'''.strip()\n",
    "\n",
    "print(s1)\n",
    "print(s2)\n",
    "print(s3)\n"
   ]
  },
  {
   "cell_type": "code",
   "execution_count": 26,
   "metadata": {},
   "outputs": [
    {
     "name": "stdout",
     "output_type": "stream",
     "text": [
      "Hi, Mr Li\n",
      "I'm John, 18 years old\n",
      "The sum is = 9\n"
     ]
    }
   ],
   "source": [
    "# 字符格式化研究\n",
    "\n",
    "origin01 = 'Hi, {}'\n",
    "format01 = origin01.format('Mr Li')\n",
    "print(format01)\n",
    "\n",
    "origin02 = 'I\\'m {name}, {age} years old'\n",
    "format02 = origin02.format(**{'name': 'John', 'age': 18})\n",
    "print(format02)\n",
    "\n",
    "format11 = f'The sum is = {3*3}'\n",
    "print(format11)\n"
   ]
  },
  {
   "cell_type": "code",
   "execution_count": 3,
   "metadata": {},
   "outputs": [
    {
     "name": "stdout",
     "output_type": "stream",
     "text": [
      "hello my world\n",
      "HELLO MY WORLD\n",
      "Hello my world\n",
      "Hello My World\n"
     ]
    }
   ],
   "source": [
    "# 大小写研究\n",
    "\n",
    "sText = 'Hello my World'\n",
    "\n",
    "print(sText.lower())\n",
    "print(sText.upper())\n",
    "print(sText.title()) # 词首大写\n",
    "print(sText.capitalize()) # 句首大写\n"
   ]
  },
  {
   "cell_type": "code",
   "execution_count": 4,
   "metadata": {},
   "outputs": [
    {
     "name": "stdout",
     "output_type": "stream",
     "text": [
      "True\n",
      "True\n",
      "---------------------------------\n",
      "True\n",
      "False\n",
      "---------------------------------\n",
      "True\n",
      "False\n"
     ]
    }
   ],
   "source": [
    "# 首尾字符研究\n",
    "# 包含性研究\n",
    "\n",
    "HelloWorld = 'HelloWorld'\n",
    "print(HelloWorld.startswith('Hello'))\n",
    "print(HelloWorld.endswith('World'))\n",
    "print('-'*33)\n",
    "\n",
    "familyNames = ('张', '李')\n",
    "print('李三'.startswith(familyNames))\n",
    "print('欧阳三'.startswith(familyNames))\n",
    "print('-'*33)\n",
    "\n",
    "print('Hell' in HelloWorld) # True\n",
    "print('hell' in HelloWorld) # False\n"
   ]
  },
  {
   "cell_type": "code",
   "execution_count": 28,
   "metadata": {},
   "outputs": [
    {
     "name": "stdout",
     "output_type": "stream",
     "text": [
      "-1\n",
      "1\n"
     ]
    }
   ],
   "source": [
    "# 位置信息研究\n",
    "\n",
    "print('ABC'.find('b')) # -1\n",
    "print('ABC'.find('B')) # 1\n"
   ]
  },
  {
   "cell_type": "code",
   "execution_count": 7,
   "metadata": {},
   "outputs": [
    {
     "name": "stdout",
     "output_type": "stream",
     "text": [
      "张三\n",
      "张四\n"
     ]
    }
   ],
   "source": [
    "# 字符加工方法研究\n",
    "\n",
    "name = '张三'\n",
    "name.replace('三', '四') # 操作之后原值不变\n",
    "print(name)\n",
    "\n",
    "name = name.replace('三', '四')\n",
    "print(name)\n"
   ]
  },
  {
   "cell_type": "code",
   "execution_count": 22,
   "metadata": {},
   "outputs": [
    {
     "name": "stdout",
     "output_type": "stream",
     "text": [
      "头尾字符： 零     十\n",
      "头尾若干字符： 零一     九十\n",
      "取任意一段字符： 一二三四五\n",
      "取任意一段字符： 一三五\n"
     ]
    }
   ],
   "source": [
    "# 字符切割研究\n",
    "\n",
    "myStr = '零一二三四五六七八九十'\n",
    "\n",
    "print('头尾字符：', myStr[0], '   ', myStr[-1])\n",
    "print('头尾若干字符：', myStr[:2], '   ', myStr[-2:])\n",
    "\n",
    "print('取任意一段字符：', myStr[1:6])\n",
    "print('取任意一段字符：', myStr[1:6:2]) # 步长=2\n",
    "\n"
   ]
  },
  {
   "cell_type": "code",
   "execution_count": null,
   "metadata": {},
   "outputs": [],
   "source": [
    "# 字符转列表\n"
   ]
  }
 ],
 "metadata": {
  "interpreter": {
   "hash": "4e0b39fdc4f2df2992ef135d097972ec225e019845a073717c5b1bc8df292c8a"
  },
  "kernelspec": {
   "display_name": "Python 3.10.2 64-bit",
   "language": "python",
   "name": "python3"
  },
  "language_info": {
   "codemirror_mode": {
    "name": "ipython",
    "version": 3
   },
   "file_extension": ".py",
   "mimetype": "text/x-python",
   "name": "python",
   "nbconvert_exporter": "python",
   "pygments_lexer": "ipython3",
   "version": "3.10.2"
  },
  "orig_nbformat": 4
 },
 "nbformat": 4,
 "nbformat_minor": 2
}
