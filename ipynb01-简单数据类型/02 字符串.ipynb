{
 "cells": [
  {
   "cell_type": "markdown",
   "metadata": {},
   "source": [
    "**字符串研究**"
   ]
  },
  {
   "cell_type": "code",
   "execution_count": 2,
   "metadata": {},
   "outputs": [
    {
     "name": "stdout",
     "output_type": "stream",
     "text": [
      "Hello World\n",
      "Let's Go\n",
      "天地玄黄\n",
      "宇宙洪荒\n"
     ]
    }
   ],
   "source": [
    "# 如何用 3 种方法声明字符串？\n",
    "\n",
    "s1 = 'Hello '    'World' # 相邻则相加\n",
    "s2 = \"Let's Go\"\n",
    "# 如何声明多行字符串\n",
    "s3 = '''\n",
    "天地玄黄\n",
    "宇宙洪荒\n",
    "'''.strip()\n",
    "\n",
    "print(s1)\n",
    "print(s2)\n",
    "print(s3)\n"
   ]
  },
  {
   "cell_type": "code",
   "execution_count": 26,
   "metadata": {},
   "outputs": [
    {
     "name": "stdout",
     "output_type": "stream",
     "text": [
      "Hi, Mr Li\n",
      "I'm John, 18 years old\n",
      "The sum is = 9\n"
     ]
    }
   ],
   "source": [
    "# 如何使用字符串模版?\n",
    "\n",
    "origin01 = 'Hi, {}'\n",
    "format01 = origin01.format('Mr Li')\n",
    "print(format01)\n",
    "\n",
    "origin02 = 'I\\'m {name}, {age} years old'\n",
    "format02 = origin02.format(**{'name': 'John', 'age': 18})\n",
    "print(format02)\n",
    "\n",
    "format11 = f'The sum is = {3*3}'\n",
    "print(format11)\n"
   ]
  },
  {
   "cell_type": "code",
   "execution_count": 3,
   "metadata": {},
   "outputs": [
    {
     "name": "stdout",
     "output_type": "stream",
     "text": [
      "hello my world\n",
      "HELLO MY WORLD\n",
      "Hello my world\n",
      "Hello My World\n"
     ]
    }
   ],
   "source": [
    "# 如何转换大小写?\n",
    "\n",
    "sText = 'Hello my World'\n",
    "\n",
    "print(sText.lower())\n",
    "print(sText.upper())\n",
    "print(sText.title()) # 词首大写\n",
    "print(sText.capitalize()) # 句首大写\n"
   ]
  },
  {
   "cell_type": "code",
   "execution_count": 9,
   "metadata": {},
   "outputs": [
    {
     "name": "stdout",
     "output_type": "stream",
     "text": [
      "False\n",
      "True\n",
      "---------------------------------\n",
      "True\n",
      "False\n",
      "---------------------------------\n",
      "True\n",
      "False\n"
     ]
    }
   ],
   "source": [
    "# 如何是否以某字符开头/结尾？\n",
    "# 如何判断是否包含某字符\n",
    "\n",
    "HelloWorld = 'Hello World'\n",
    "print(HelloWorld.startswith('hello')) # 大小写严格\n",
    "print(HelloWorld.endswith('World'))\n",
    "print('-'*33)\n",
    "\n",
    "familyNames = ('张', '李')\n",
    "print('李三'.startswith(familyNames))\n",
    "print('欧阳三'.startswith(familyNames))\n",
    "print('-'*33)\n",
    "\n",
    "print('Hell' in HelloWorld) # True (大小写严格)\n",
    "print('hell' in HelloWorld) # False\n"
   ]
  },
  {
   "cell_type": "code",
   "execution_count": 28,
   "metadata": {},
   "outputs": [
    {
     "name": "stdout",
     "output_type": "stream",
     "text": [
      "-1\n",
      "1\n"
     ]
    }
   ],
   "source": [
    "# 如何判断某字符在另一字符中的索引值？\n",
    "\n",
    "print('ABC'.find('b')) # -1\n",
    "print('ABC'.find('B')) # 1\n"
   ]
  },
  {
   "cell_type": "code",
   "execution_count": 12,
   "metadata": {},
   "outputs": [
    {
     "name": "stdout",
     "output_type": "stream",
     "text": [
      "张三，李三\n",
      "张四，李四\n"
     ]
    }
   ],
   "source": [
    "# 如何替换字符串中的一些字符？\n",
    "\n",
    "name = '张三，李三'\n",
    "name.replace('三', '四') # 操作之后原值不变\n",
    "print(name)\n",
    "\n",
    "name = name.replace('三', '四') # 需要重新赋值\n",
    "print(name)\n",
    "\n"
   ]
  },
  {
   "cell_type": "code",
   "execution_count": 13,
   "metadata": {},
   "outputs": [
    {
     "name": "stdout",
     "output_type": "stream",
     "text": [
      "头尾字符： 零 十\n",
      "头尾若干字符： 零一 九十\n",
      "取任意一段字符： 一二三四五\n",
      "取任意一段字符： 一三五\n"
     ]
    }
   ],
   "source": [
    "# 如何截取字符？\n",
    "# 取头几个，取尾几个，取中间几个\n",
    "\n",
    "myStr = '零一二三四五六七八九十'\n",
    "\n",
    "print('头尾字符：', myStr[0], myStr[-1])\n",
    "print('头尾若干字符：', myStr[:2], myStr[-2:])\n",
    "\n",
    "print('取任意一段字符：', myStr[1:6])\n",
    "print('取任意一段字符：', myStr[1:6:2]) # 步长=2\n",
    "\n"
   ]
  },
  {
   "cell_type": "code",
   "execution_count": 14,
   "metadata": {},
   "outputs": [
    {
     "name": "stdout",
     "output_type": "stream",
     "text": [
      "转列表 ['张三', '李四', '王五', '赵六']\n",
      "列表-转字符 张三, 李四, 王五, 赵六\n",
      "元组-转字符 1, 2\n",
      "集合-转字符 2, 1\n"
     ]
    }
   ],
   "source": [
    "# 字符 - 转列 - 互相转换\n",
    "# 2个方法与 js 中的方法名相同，但他们都是字符的方法\n",
    "\n",
    "s1 = '张三 李四 王五 赵六'\n",
    "l1 = s1.split(' ')\n",
    "print('转列表', l1)\n",
    "\n",
    "# 扩展：列表转字符\n",
    "# 注意！可迭代容器的成员必须是字符\n",
    "s2 = ', '.join(l1)\n",
    "s3 = ', '.join(('1', '2',)) # 也可以加工元组\n",
    "s4 = ', '.join({'1', '1', '2', '2'}) # 集合\n",
    "print('列表-转字符', s2)\n",
    "print('元组-转字符', s3)\n",
    "print('集合-转字符', s4)\n"
   ]
  },
  {
   "cell_type": "code",
   "execution_count": null,
   "metadata": {},
   "outputs": [],
   "source": []
  }
 ],
 "metadata": {
  "interpreter": {
   "hash": "4e0b39fdc4f2df2992ef135d097972ec225e019845a073717c5b1bc8df292c8a"
  },
  "kernelspec": {
   "display_name": "Python 3.10.2 64-bit",
   "language": "python",
   "name": "python3"
  },
  "language_info": {
   "codemirror_mode": {
    "name": "ipython",
    "version": 3
   },
   "file_extension": ".py",
   "mimetype": "text/x-python",
   "name": "python",
   "nbconvert_exporter": "python",
   "pygments_lexer": "ipython3",
   "version": "3.10.2"
  },
  "orig_nbformat": 4
 },
 "nbformat": 4,
 "nbformat_minor": 2
}
