{
 "cells": [
  {
   "cell_type": "markdown",
   "metadata": {},
   "source": [
    "**数值类型**"
   ]
  },
  {
   "cell_type": "code",
   "execution_count": 12,
   "metadata": {},
   "outputs": [
    {
     "name": "stdout",
     "output_type": "stream",
     "text": [
      "1234\n",
      "1234.56\n",
      "\n",
      "<class 'int'>\n",
      "<class 'float'>\n"
     ]
    }
   ],
   "source": [
    "# 如何声明数值？\n",
    "# 数字可用下划化分隔（与JS一样）\n",
    "n01 = 1_234\n",
    "n02 = 1_234.56\n",
    "\n",
    "print(n01)\n",
    "print(n02)\n",
    "print()\n",
    "print(type(1)) # <class 'int'>\n",
    "print(type(1.0)) # <class 'float'>\n"
   ]
  },
  {
   "cell_type": "code",
   "execution_count": 9,
   "metadata": {},
   "outputs": [
    {
     "name": "stdout",
     "output_type": "stream",
     "text": [
      "下退： 3\n",
      "下退： 3\n",
      "下退： 3\n",
      "上进一法： 4\n",
      "== 下退三途，上进一法 =========\n",
      "\n",
      "伪四舍五入： 3\n",
      "伪四舍五入： 4\n"
     ]
    }
   ],
   "source": [
    "# 如何取整？\n",
    "# -- 下退三途，上进一法 --------\n",
    "\n",
    "import math\n",
    "\n",
    "# 这2个好，不用引入 math 包\n",
    "print('下退：', 10 // 3)\n",
    "print('下退：', int(3.99))\n",
    "\n",
    "print('下退：', math.floor(3.99))\n",
    "print('上进一法：', math.ceil(10 / 3))\n",
    "\n",
    "print(f\"-- 下退三途，上进一法 --------\\n\")\n",
    "print('伪四舍五入：', round(10 / 3)) # 注意，round 是全局方法，不属于 math 包\n",
    "print('伪四舍五入：', round(11 / 3))\n"
   ]
  },
  {
   "cell_type": "code",
   "execution_count": 17,
   "metadata": {},
   "outputs": [
    {
     "name": "stdout",
     "output_type": "stream",
     "text": [
      "原始数值： 3.14159   18.0\n",
      "保留 2 位小数： 3.14\n",
      "保留 2 位小数： 18.0\n",
      "---------------------------------\n",
      "保留 2 位小数： 18.00\n",
      "保留 2 位小数： 18.00\n"
     ]
    }
   ],
   "source": [
    "# 如何保留x位小数？\n",
    "\n",
    "PiValue = 3.14159\n",
    "ageValue = 18.0\n",
    "print('原始数值：', PiValue, ' ', ageValue)\n",
    "\n",
    "print('保留 2 位小数：', round(PiValue, 2) ) \n",
    "print('保留 2 位小数：', round(ageValue, 2))\n",
    "print('-'*33)\n",
    "\n",
    "# ▲ 砍短不加长\n",
    "# ▼ 变性式修改小数位数\n",
    "\n",
    "age03 = '{:.2f}'.format(ageValue)\n",
    "age04 = f'{ageValue:.2f}'\n",
    "print('保留 2 位小数：', age03)\n",
    "print('保留 2 位小数：', age04)\n"
   ]
  },
  {
   "cell_type": "code",
   "execution_count": 23,
   "metadata": {},
   "outputs": [
    {
     "name": "stdout",
     "output_type": "stream",
     "text": [
      "随机数： 1\n"
     ]
    }
   ],
   "source": [
    "# 如何取得随机数？\n",
    "\n",
    "import random\n",
    "\n",
    "print('随机数：', random.randint(0, 9))\n"
   ]
  }
 ],
 "metadata": {
  "interpreter": {
   "hash": "4e0b39fdc4f2df2992ef135d097972ec225e019845a073717c5b1bc8df292c8a"
  },
  "kernelspec": {
   "display_name": "Python 3.10.2 64-bit",
   "language": "python",
   "name": "python3"
  },
  "language_info": {
   "codemirror_mode": {
    "name": "ipython",
    "version": 3
   },
   "file_extension": ".py",
   "mimetype": "text/x-python",
   "name": "python",
   "nbconvert_exporter": "python",
   "pygments_lexer": "ipython3",
   "version": "3.10.2"
  },
  "orig_nbformat": 4
 },
 "nbformat": 4,
 "nbformat_minor": 2
}
