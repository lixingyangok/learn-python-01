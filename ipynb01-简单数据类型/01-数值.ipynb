{
 "cells": [
  {
   "cell_type": "markdown",
   "metadata": {},
   "source": [
    "**数值类型**"
   ]
  },
  {
   "cell_type": "code",
   "execution_count": 12,
   "metadata": {},
   "outputs": [
    {
     "name": "stdout",
     "output_type": "stream",
     "text": [
      "1234\n",
      "1234.56\n",
      "\n",
      "<class 'int'>\n",
      "<class 'float'>\n"
     ]
    }
   ],
   "source": [
    "# 数字可用下划化分隔（与JS一样）\n",
    "n01 = 1_234\n",
    "n02 = 1_234.56\n",
    "print(n01)\n",
    "print(n02)\n",
    "print()\n",
    "print(type(1)) # <class 'int'>\n",
    "print(type(1.0)) # <class 'float'>\n"
   ]
  },
  {
   "cell_type": "code",
   "execution_count": 22,
   "metadata": {},
   "outputs": [
    {
     "name": "stdout",
     "output_type": "stream",
     "text": [
      "下退： 3\n",
      "下退： 3\n",
      "下退： 3\n",
      "---------------------------------\n",
      "上进： 4\n",
      "上进： 4\n",
      "---------------------------------\n",
      "伪四舍五入： 3\n",
      "伪四舍五入： 2\n"
     ]
    }
   ],
   "source": [
    "# 研究取整\n",
    "import math\n",
    "\n",
    "print('下退：', 10 // 3)\n",
    "print('下退：', int(10 // 3))\n",
    "print('下退：', math.floor(10 / 3))\n",
    "print('-'*33)\n",
    "print('上进：', 10 // 3 + 1)\n",
    "print('上进：', math.ceil(10 / 3))\n",
    "print('-'*33)\n",
    "print('伪四舍五入：', round(10 / 3)) # round 是全局方法，不属于 math 包\n",
    "print('伪四舍五入：', round(10 / 6))"
   ]
  },
  {
   "cell_type": "code",
   "execution_count": 38,
   "metadata": {},
   "outputs": [
    {
     "name": "stdout",
     "output_type": "stream",
     "text": [
      "保留 2 位小数： 3.14\n",
      "---------------------------------\n",
      "原始数值： 18.0\n",
      "保留 2 位小数： 18.0\n",
      "保留 2 位小数： 18.00\n",
      "保留 2 位小数： 18.00\n"
     ]
    }
   ],
   "source": [
    "# 研究保存x位小数\n",
    "\n",
    "PiValue = 3.14159\n",
    "Pi02 = round(PiValue, 2)\n",
    "print('保留 2 位小数：', Pi02)\n",
    "print('-'*33)\n",
    "\n",
    "ageValue = 18.0\n",
    "age02 = round(ageValue, 2)\n",
    "age03 = '{:.2f}'.format(ageValue)\n",
    "age04 = f'{ageValue:.2f}'\n",
    "print('原始数值：', ageValue)\n",
    "print('保留 2 位小数：', str(age02))\n",
    "print('保留 2 位小数：', age03)\n",
    "print('保留 2 位小数：', age04)\n"
   ]
  }
 ],
 "metadata": {
  "interpreter": {
   "hash": "4e0b39fdc4f2df2992ef135d097972ec225e019845a073717c5b1bc8df292c8a"
  },
  "kernelspec": {
   "display_name": "Python 3.10.2 64-bit",
   "language": "python",
   "name": "python3"
  },
  "language_info": {
   "codemirror_mode": {
    "name": "ipython",
    "version": 3
   },
   "file_extension": ".py",
   "mimetype": "text/x-python",
   "name": "python",
   "nbconvert_exporter": "python",
   "pygments_lexer": "ipython3",
   "version": "3.10.2"
  },
  "orig_nbformat": 4
 },
 "nbformat": 4,
 "nbformat_minor": 2
}
