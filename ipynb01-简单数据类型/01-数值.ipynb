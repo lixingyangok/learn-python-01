{
 "cells": [
  {
   "cell_type": "markdown",
   "metadata": {},
   "source": [
    "**数值类型**"
   ]
  },
  {
   "cell_type": "code",
   "execution_count": 13,
   "metadata": {},
   "outputs": [
    {
     "name": "stdout",
     "output_type": "stream",
     "text": [
      "1234\n",
      "1234.567\n",
      "\n",
      "<class 'int'> <class 'float'>\n",
      "<class 'int'> <class 'float'>\n",
      "\n",
      "判断值为整形或浮点型 01：\n",
      "True\n",
      "True\n",
      "True\n",
      "\n",
      "判断值为整形或浮点型 02：\n",
      "True\n",
      "True\n"
     ]
    }
   ],
   "source": [
    "# 如何声明数值？\n",
    "# 数字可用下划化分隔（与JS一样）\n",
    "n01 = 1_234\n",
    "n02 = 1_234.567\n",
    "\n",
    "print(n01)\n",
    "print(n02)\n",
    "print()\n",
    "print(type(1), type(1.0))\n",
    "print(type(0), type(0.0))\n",
    "\n",
    "\n",
    "\n",
    "\n",
    "print('\\n判断值为整形或浮点型 01：')\n",
    "print(isinstance(1, int)) # True\n",
    "print(isinstance(1.0, float)) # True 人类看它是整形，数据本身是浮点型\n",
    "print(1.0 % 1 == 0 == 0.0) # 人类视角、雷锋视角\n",
    "\n",
    "print('\\n判断值为整形或浮点型 02：')\n",
    "print(type(1) == int)\n",
    "print(type(1.0) == float)\n",
    "\n"
   ]
  },
  {
   "cell_type": "code",
   "execution_count": 9,
   "metadata": {},
   "outputs": [
    {
     "name": "stdout",
     "output_type": "stream",
     "text": [
      "下退： 3\n",
      "下退： 3\n",
      "下退： 3\n",
      "上进一法： 4\n",
      "== 下退三途，上进一法 =========\n",
      "\n",
      "伪四舍五入： 3\n",
      "伪四舍五入： 4\n"
     ]
    }
   ],
   "source": [
    "# 如何取整？\n",
    "# -- 下退三途，上进一法 --------\n",
    "\n",
    "import math\n",
    "\n",
    "# 这2个好，不用引入 math 包\n",
    "print('下退：', 10 // 3)\n",
    "print('下退：', int(3.99))\n",
    "\n",
    "print('下退：', math.floor(3.99))\n",
    "print('上进一法：', math.ceil(10 / 3))\n",
    "\n",
    "print(f\"-- 下退三途，上进一法 --------\\n\")\n",
    "print('伪四舍五入：', round(10 / 3)) # 注意，round 是全局方法，不属于 math 包\n",
    "print('伪四舍五入：', round(11 / 3))\n"
   ]
  },
  {
   "cell_type": "code",
   "execution_count": 17,
   "metadata": {},
   "outputs": [
    {
     "name": "stdout",
     "output_type": "stream",
     "text": [
      "原始数值： 3.14159   18.0\n",
      "保留 2 位小数： 3.14\n",
      "保留 2 位小数： 18.0\n",
      "---------------------------------\n",
      "保留 2 位小数： 18.00\n",
      "保留 2 位小数： 18.00\n"
     ]
    }
   ],
   "source": [
    "# 如何保留x位小数？\n",
    "\n",
    "PiValue = 3.14159\n",
    "ageValue = 18.0\n",
    "print('原始数值：', PiValue, ' ', ageValue)\n",
    "\n",
    "print('保留 2 位小数：', round(PiValue, 2) ) \n",
    "print('保留 2 位小数：', round(ageValue, 2))\n",
    "print('-'*33)\n",
    "\n",
    "# ▲ 砍短不加长\n",
    "# ▼ 变性式修改小数位数\n",
    "\n",
    "age03 = '{:.2f}'.format(ageValue)\n",
    "age04 = f'{ageValue:.2f}'\n",
    "print('保留 2 位小数：', age03)\n",
    "print('保留 2 位小数：', age04)\n"
   ]
  },
  {
   "cell_type": "code",
   "execution_count": 105,
   "metadata": {},
   "outputs": [
    {
     "name": "stdout",
     "output_type": "stream",
     "text": [
      "类JS方式 0.4088846832778228\n",
      "定制加强版 5.01178572428547\n",
      "\n",
      "取得随机整数 1\n",
      "取得随机整数-特定间隔 26\n"
     ]
    }
   ],
   "source": [
    "# 如何取得随机数？\n",
    "\n",
    "import random\n",
    "\n",
    "print('类JS方式', random.random()) # 结果 >=0 and < 1\n",
    "print('定制加强版', random.uniform(3.3, 5.5 )) # 指定结果范围\n",
    "\n",
    "# python特色 - 随机整数\n",
    "print('\\n取得随机整数', random.randint(1, 3)) # 可能的值：1,2,3\n",
    "print('取得随机整数-特定间隔', random.randrange(10, 30, 2)) # 只能得到“偶数”\n"
   ]
  },
  {
   "cell_type": "code",
   "execution_count": 107,
   "metadata": {},
   "outputs": [
    {
     "name": "stdout",
     "output_type": "stream",
     "text": [
      "\n",
      "随机选择 BB\n",
      "旧列表为 [21, 23, 25, 27, 29, 31, 33, 35, 37, 39]\n",
      "无返回值 None\n",
      "新列表为 [33, 29, 27, 39, 37, 35, 21, 25, 31, 23]\n"
     ]
    }
   ],
   "source": [
    "# random 包的其它功能\n",
    "# python特色 - 数组相关\n",
    "\n",
    "print('\\n随机选择', random.choice(['AA', 'BB', 'CC']))\n",
    "\n",
    "listOld = [idx for idx in range(20, 40) if idx % 2]\n",
    "print('旧列表为', listOld)\n",
    "valReturned = random.shuffle(listOld) # 没有返回值\n",
    "print('无返回值', valReturned)\n",
    "print('新列表为', listOld)"
   ]
  }
 ],
 "metadata": {
  "interpreter": {
   "hash": "3196968d684371006099b3d55edeef8ed90365227a30deaef86e5d4aa8519be0"
  },
  "kernelspec": {
   "display_name": "Python 3.10.2 64-bit",
   "language": "python",
   "name": "python3"
  },
  "language_info": {
   "codemirror_mode": {
    "name": "ipython",
    "version": 3
   },
   "file_extension": ".py",
   "mimetype": "text/x-python",
   "name": "python",
   "nbconvert_exporter": "python",
   "pygments_lexer": "ipython3",
   "version": "3.10.2"
  },
  "orig_nbformat": 4
 },
 "nbformat": 4,
 "nbformat_minor": 2
}
