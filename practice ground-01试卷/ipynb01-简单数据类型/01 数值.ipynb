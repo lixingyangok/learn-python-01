{
 "cells": [
  {
   "cell_type": "markdown",
   "metadata": {},
   "source": [
    "**数值类型**"
   ]
  },
  {
   "cell_type": "code",
   "execution_count": 3,
   "metadata": {},
   "outputs": [
    {
     "name": "stdout",
     "output_type": "stream",
     "text": [
      "\n",
      "● 如何判断一个数值是整形和浮点型？有2种方法\n",
      "\n",
      "● 同上（从人类视角）\n",
      "\n",
      "● 为什么说值相等，类型不等\n"
     ]
    }
   ],
   "source": [
    "print('\\n● 如何判断一个数值是整形和浮点型？有2种方法')\n",
    "\n",
    "print('\\n● 同上（从人类视角）')\n",
    "\n",
    "print('\\n● 为什么说值相等，类型不等')\n",
    "\n",
    "\n"
   ]
  },
  {
   "cell_type": "code",
   "execution_count": 2,
   "metadata": {},
   "outputs": [
    {
     "name": "stdout",
     "output_type": "stream",
     "text": [
      "\n",
      "● 01下退三途，上进一法\n",
      "\n",
      "● 02 四舍五入取整\n"
     ]
    }
   ],
   "source": [
    "# 如何取整？\n",
    "print('\\n● 01下退三途，上进一法')\n",
    "\n",
    "\n",
    "print('\\n● 02 四舍五入取整')\n",
    "\n"
   ]
  },
  {
   "cell_type": "code",
   "execution_count": null,
   "metadata": {},
   "outputs": [],
   "source": [
    "# 如何保留x位小数？\n",
    "\n",
    "\n",
    "\n",
    "# 同上，且将小数点后的仅有的若干个零都保留\n",
    "\n",
    "\n",
    "print('扩展：将数字左侧添加0，或任意字符')\n"
   ]
  },
  {
   "cell_type": "code",
   "execution_count": null,
   "metadata": {},
   "outputs": [],
   "source": [
    "# 如何取得随机数？\n",
    "'''\n",
    "1、类js方式\n",
    "2、指定结果范围\n",
    "3、仅要整数\n",
    "4、只要奇/偶数\n",
    "'''\n",
    "\n"
   ]
  },
  {
   "cell_type": "code",
   "execution_count": null,
   "metadata": {},
   "outputs": [],
   "source": [
    "# random 包的其它功能（处理数组）\n",
    "'''\n",
    "1、翻拍选妃\n",
    "2、洗牌\n",
    "'''\n",
    "\n",
    "\n"
   ]
  }
 ],
 "metadata": {
  "interpreter": {
   "hash": "3196968d684371006099b3d55edeef8ed90365227a30deaef86e5d4aa8519be0"
  },
  "kernelspec": {
   "display_name": "Python 3.10.2 64-bit",
   "language": "python",
   "name": "python3"
  },
  "language_info": {
   "codemirror_mode": {
    "name": "ipython",
    "version": 3
   },
   "file_extension": ".py",
   "mimetype": "text/x-python",
   "name": "python",
   "nbconvert_exporter": "python",
   "pygments_lexer": "ipython3",
   "version": "3.10.2"
  },
  "orig_nbformat": 4
 },
 "nbformat": 4,
 "nbformat_minor": 2
}
