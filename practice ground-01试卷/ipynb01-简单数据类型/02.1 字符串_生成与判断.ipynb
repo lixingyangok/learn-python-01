{
 "cells": [
  {
   "cell_type": "markdown",
   "metadata": {},
   "source": [
    "**字符串研究**"
   ]
  },
  {
   "cell_type": "code",
   "execution_count": 3,
   "metadata": {},
   "outputs": [
    {
     "name": "stdout",
     "output_type": "stream",
     "text": [
      "Hi\n",
      "I'm John, 18 years old\n",
      "The sum is = 9\n"
     ]
    }
   ],
   "source": [
    "# 如何使用字符串模版做字符拼接？\n",
    "# 如何使用字符串的模版方法？\n",
    "# 如何将数字转为x位小数的形式？\n",
    "\n"
   ]
  },
  {
   "cell_type": "code",
   "execution_count": null,
   "metadata": {},
   "outputs": [],
   "source": [
    "''' 包含性判断之头尾判断 '''\n",
    "# 如何是否以某字符开头/结尾？\n",
    "# 如何一次判断某个姓名是否以“赵钱孙”三大家族的姓开头\n",
    "\n",
    "HelloWorld = 'Hello World'\n",
    "name01 = '张三'\n",
    "name01 = '李四'\n",
    "familyNames = ['赵', '钱', '孙']\n",
    "familyNames = ('赵', '钱', '孙')\n",
    "\n",
    "\n",
    "\n"
   ]
  },
  {
   "cell_type": "code",
   "execution_count": null,
   "metadata": {},
   "outputs": [],
   "source": [
    "''' 存在性判断 '''\n",
    "# 某字符是否在字符串中\n",
    "# 具体在哪\n",
    "\n",
    "HelloWorld = 'Hello World'\n"
   ]
  },
  {
   "cell_type": "code",
   "execution_count": null,
   "metadata": {},
   "outputs": [],
   "source": []
  }
 ],
 "metadata": {
  "interpreter": {
   "hash": "3196968d684371006099b3d55edeef8ed90365227a30deaef86e5d4aa8519be0"
  },
  "kernelspec": {
   "display_name": "Python 3.10.2 64-bit",
   "language": "python",
   "name": "python3"
  },
  "language_info": {
   "codemirror_mode": {
    "name": "ipython",
    "version": 3
   },
   "file_extension": ".py",
   "mimetype": "text/x-python",
   "name": "python",
   "nbconvert_exporter": "python",
   "pygments_lexer": "ipython3",
   "version": "3.10.2"
  },
  "orig_nbformat": 4
 },
 "nbformat": 4,
 "nbformat_minor": 2
}
