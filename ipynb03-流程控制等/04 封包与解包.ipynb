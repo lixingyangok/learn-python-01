{
 "cells": [
  {
   "cell_type": "markdown",
   "metadata": {},
   "source": [
    "### 封包与解包，星号与"
   ]
  },
  {
   "cell_type": "code",
   "execution_count": 14,
   "metadata": {},
   "outputs": [
    {
     "name": "stdout",
     "output_type": "stream",
     "text": [
      "\n",
      "● 列表如何解包\n",
      "first: 0\n",
      "rest: []\n",
      "\n",
      "●进阶\n",
      "first: 0\n",
      "middle: []\n",
      "last: 1\n"
     ]
    }
   ],
   "source": [
    "print('\\n● 列表如何解包')\n",
    "list01 = [0, 1, 2, 3, 4, 5]\n",
    "list01 = [0] # 不出错\n",
    "# list01 = [] # 会出错\n",
    "# first, second = list01 # 变量数量必须与右侧元素数量一致\n",
    "first, *rest = list01 # 即使右侧列表只有1个元素，也会顺利解包（rest 为空列表）\n",
    "\n",
    "print('first:', first)\n",
    "print('rest:', rest)\n",
    "\n",
    "print('\\n●进阶')\n",
    "list02 = [0, 1] # 顺利执行\n",
    "# list02 = [0] # 会报错\n",
    "first, *middle, last = list02\n",
    "\n",
    "print('first:', first)\n",
    "print('middle:', middle) # 到了空\n",
    "print('last:', last)\n",
    "\n",
    "\n"
   ]
  },
  {
   "cell_type": "code",
   "execution_count": 15,
   "metadata": {},
   "outputs": [
    {
     "name": "stdout",
     "output_type": "stream",
     "text": [
      "('a', 1) ('b', 2) ('c', 3) "
     ]
    }
   ],
   "source": [
    "a = ['a', 'b', 'c']\n",
    "b = [1, 2, 3]\n",
    "for idx in zip(a, b):\n",
    "    print(idx, end=' ')\n",
    "\n"
   ]
  },
  {
   "cell_type": "code",
   "execution_count": 7,
   "metadata": {},
   "outputs": [
    {
     "name": "stdout",
     "output_type": "stream",
     "text": [
      "\n",
      "● 字典如何解包\n"
     ]
    },
    {
     "ename": "ValueError",
     "evalue": "too many values to unpack (expected 2)",
     "output_type": "error",
     "traceback": [
      "\u001b[1;31m---------------------------------------------------------------------------\u001b[0m",
      "\u001b[1;31mValueError\u001b[0m                                Traceback (most recent call last)",
      "\u001b[1;32md:\\github\\learn-python-01\\ipynb03-流程控制等\\04 封包与解包.ipynb Cell 3'\u001b[0m in \u001b[0;36m<module>\u001b[1;34m\u001b[0m\n\u001b[0;32m      <a href='vscode-notebook-cell:/d%3A/github/learn-python-01/ipynb03-%E6%B5%81%E7%A8%8B%E6%8E%A7%E5%88%B6%E7%AD%89/04%20%E5%B0%81%E5%8C%85%E4%B8%8E%E8%A7%A3%E5%8C%85.ipynb#ch0000002?line=0'>1</a>\u001b[0m \u001b[39mprint\u001b[39m(\u001b[39m'\u001b[39m\u001b[39m\\n\u001b[39;00m\u001b[39m● 字典如何解包\u001b[39m\u001b[39m'\u001b[39m)\n\u001b[0;32m      <a href='vscode-notebook-cell:/d%3A/github/learn-python-01/ipynb03-%E6%B5%81%E7%A8%8B%E6%8E%A7%E5%88%B6%E7%AD%89/04%20%E5%B0%81%E5%8C%85%E4%B8%8E%E8%A7%A3%E5%8C%85.ipynb#ch0000002?line=1'>2</a>\u001b[0m d01 \u001b[39m=\u001b[39m {\u001b[39m'\u001b[39m\u001b[39mname\u001b[39m\u001b[39m'\u001b[39m: \u001b[39m'\u001b[39m\u001b[39mJohn Doe\u001b[39m\u001b[39m'\u001b[39m, \u001b[39m'\u001b[39m\u001b[39mage\u001b[39m\u001b[39m'\u001b[39m: \u001b[39m18\u001b[39m, \u001b[39m'\u001b[39m\u001b[39mhobby\u001b[39m\u001b[39m'\u001b[39m: \u001b[39m'\u001b[39m\u001b[39mreading\u001b[39m\u001b[39m'\u001b[39m}\n\u001b[1;32m----> <a href='vscode-notebook-cell:/d%3A/github/learn-python-01/ipynb03-%E6%B5%81%E7%A8%8B%E6%8E%A7%E5%88%B6%E7%AD%89/04%20%E5%B0%81%E5%8C%85%E4%B8%8E%E8%A7%A3%E5%8C%85.ipynb#ch0000002?line=2'>3</a>\u001b[0m aa, bb \u001b[39m=\u001b[39m d01\n\u001b[0;32m      <a href='vscode-notebook-cell:/d%3A/github/learn-python-01/ipynb03-%E6%B5%81%E7%A8%8B%E6%8E%A7%E5%88%B6%E7%AD%89/04%20%E5%B0%81%E5%8C%85%E4%B8%8E%E8%A7%A3%E5%8C%85.ipynb#ch0000002?line=3'>4</a>\u001b[0m \u001b[39mprint\u001b[39m(\u001b[39m'\u001b[39m\u001b[39m字典解包取键不取值：\u001b[39m\u001b[39m'\u001b[39m, aa, bb)\n",
      "\u001b[1;31mValueError\u001b[0m: too many values to unpack (expected 2)"
     ]
    }
   ],
   "source": [
    "print('\\n● 字典如何解包')\n",
    "d01 = {'name': 'John Doe', 'age': 18}\n",
    "aa, bb = d01 # 左侧变量的数量一定要与字典键的数量相同\n",
    "\n",
    "print('字典解包取键不取值：', aa, bb)\n"
   ]
  }
 ],
 "metadata": {
  "interpreter": {
   "hash": "3196968d684371006099b3d55edeef8ed90365227a30deaef86e5d4aa8519be0"
  },
  "kernelspec": {
   "display_name": "Python 3.10.2 64-bit",
   "language": "python",
   "name": "python3"
  },
  "language_info": {
   "codemirror_mode": {
    "name": "ipython",
    "version": 3
   },
   "file_extension": ".py",
   "mimetype": "text/x-python",
   "name": "python",
   "nbconvert_exporter": "python",
   "pygments_lexer": "ipython3",
   "version": "3.10.2"
  },
  "orig_nbformat": 4
 },
 "nbformat": 4,
 "nbformat_minor": 2
}
