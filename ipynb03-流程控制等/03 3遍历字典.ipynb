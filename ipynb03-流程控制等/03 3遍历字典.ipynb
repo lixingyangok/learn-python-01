{
 "cells": [
  {
   "cell_type": "markdown",
   "metadata": {},
   "source": [
    "**遍历字典**  "
   ]
  },
  {
   "cell_type": "code",
   "execution_count": 16,
   "metadata": {},
   "outputs": [
    {
     "name": "stdout",
     "output_type": "stream",
     "text": [
      "name,   age,   hobby,   \n",
      "John Doe,   18,   Learning,   \n",
      "name=John Doe,   age=18,   hobby=Learning,   \n"
     ]
    }
   ],
   "source": [
    "d01 = {\n",
    "    'name': 'John Doe',\n",
    "    'age': 18,\n",
    "    'hobby': 'Learning',\n",
    "}\n",
    "\n",
    "for key in d01.keys():\n",
    "    print(key, end=',   ')\n",
    "print()\n",
    "\n",
    "for val in d01.values():\n",
    "    print(val, end=',   ')\n",
    "print()\n",
    "\n",
    "for key, val in d01.items():\n",
    "    print(f'{key}={val}', end=',   ')\n",
    "print()\n",
    "\n"
   ]
  }
 ],
 "metadata": {
  "interpreter": {
   "hash": "4e0b39fdc4f2df2992ef135d097972ec225e019845a073717c5b1bc8df292c8a"
  },
  "kernelspec": {
   "display_name": "Python 3.10.2 64-bit",
   "language": "python",
   "name": "python3"
  },
  "language_info": {
   "codemirror_mode": {
    "name": "ipython",
    "version": 3
   },
   "file_extension": ".py",
   "mimetype": "text/x-python",
   "name": "python",
   "nbconvert_exporter": "python",
   "pygments_lexer": "ipython3",
   "version": "3.10.2"
  },
  "orig_nbformat": 4
 },
 "nbformat": 4,
 "nbformat_minor": 2
}
