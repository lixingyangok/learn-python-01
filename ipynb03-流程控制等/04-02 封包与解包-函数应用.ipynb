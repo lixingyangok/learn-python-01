{
 "cells": [
  {
   "cell_type": "markdown",
   "metadata": {},
   "source": [
    "### 封包与解包，函数应用"
   ]
  },
  {
   "cell_type": "code",
   "execution_count": 2,
   "metadata": {},
   "outputs": [
    {
     "name": "stdout",
     "output_type": "stream",
     "text": [
      "\n",
      "● 如何用封包解包声明函数？\n",
      "John Doe, 18, Reading\n"
     ]
    },
    {
     "ename": "TypeError",
     "evalue": "f01() missing 2 required positional arguments: 'age' and 'hobby'",
     "output_type": "error",
     "traceback": [
      "\u001b[1;31m---------------------------------------------------------------------------\u001b[0m",
      "\u001b[1;31mTypeError\u001b[0m                                 Traceback (most recent call last)",
      "\u001b[1;32md:\\github\\learn-python-01\\ipynb03-流程控制等\\04-02 封包与解包-函数应用.ipynb Cell 2'\u001b[0m in \u001b[0;36m<module>\u001b[1;34m\u001b[0m\n\u001b[0;32m      <a href='vscode-notebook-cell:/d%3A/github/learn-python-01/ipynb03-%E6%B5%81%E7%A8%8B%E6%8E%A7%E5%88%B6%E7%AD%89/04-02%20%E5%B0%81%E5%8C%85%E4%B8%8E%E8%A7%A3%E5%8C%85-%E5%87%BD%E6%95%B0%E5%BA%94%E7%94%A8.ipynb#ch0000005?line=4'>5</a>\u001b[0m     \u001b[39mprint\u001b[39m(\u001b[39mf\u001b[39m\u001b[39m'\u001b[39m\u001b[39m{\u001b[39;00mname\u001b[39m}\u001b[39;00m\u001b[39m, \u001b[39m\u001b[39m{\u001b[39;00mage\u001b[39m}\u001b[39;00m\u001b[39m, \u001b[39m\u001b[39m{\u001b[39;00mhobby\u001b[39m}\u001b[39;00m\u001b[39m'\u001b[39m)\n\u001b[0;32m      <a href='vscode-notebook-cell:/d%3A/github/learn-python-01/ipynb03-%E6%B5%81%E7%A8%8B%E6%8E%A7%E5%88%B6%E7%AD%89/04-02%20%E5%B0%81%E5%8C%85%E4%B8%8E%E8%A7%A3%E5%8C%85-%E5%87%BD%E6%95%B0%E5%BA%94%E7%94%A8.ipynb#ch0000005?line=7'>8</a>\u001b[0m f01(name\u001b[39m=\u001b[39m\u001b[39m'\u001b[39m\u001b[39mJohn Doe\u001b[39m\u001b[39m'\u001b[39m, age\u001b[39m=\u001b[39m\u001b[39m18\u001b[39m, hobby\u001b[39m=\u001b[39m\u001b[39m'\u001b[39m\u001b[39mReading\u001b[39m\u001b[39m'\u001b[39m)\n\u001b[1;32m----> <a href='vscode-notebook-cell:/d%3A/github/learn-python-01/ipynb03-%E6%B5%81%E7%A8%8B%E6%8E%A7%E5%88%B6%E7%AD%89/04-02%20%E5%B0%81%E5%8C%85%E4%B8%8E%E8%A7%A3%E5%8C%85-%E5%87%BD%E6%95%B0%E5%BA%94%E7%94%A8.ipynb#ch0000005?line=8'>9</a>\u001b[0m f01(name\u001b[39m=\u001b[39;49m\u001b[39m'\u001b[39;49m\u001b[39mJohn Doe\u001b[39;49m\u001b[39m'\u001b[39;49m)\n",
      "\u001b[1;31mTypeError\u001b[0m: f01() missing 2 required positional arguments: 'age' and 'hobby'"
     ]
    }
   ],
   "source": [
    "print('\\n● 如何用封包解包声明函数？')\n",
    "\n",
    "def f01(name, age, hobby):\n",
    "    # print(name, age, hobby)\n",
    "    print(f'{name}, {age}, {hobby}')\n",
    "\n",
    "\n",
    "f01(name='John Doe', age=18, hobby='Reading')\n",
    "f01(name='John Doe')\n"
   ]
  }
 ],
 "metadata": {
  "interpreter": {
   "hash": "3196968d684371006099b3d55edeef8ed90365227a30deaef86e5d4aa8519be0"
  },
  "kernelspec": {
   "display_name": "Python 3.10.2 64-bit",
   "language": "python",
   "name": "python3"
  },
  "language_info": {
   "codemirror_mode": {
    "name": "ipython",
    "version": 3
   },
   "file_extension": ".py",
   "mimetype": "text/x-python",
   "name": "python",
   "nbconvert_exporter": "python",
   "pygments_lexer": "ipython3",
   "version": "3.10.2"
  },
  "orig_nbformat": 4
 },
 "nbformat": 4,
 "nbformat_minor": 2
}
