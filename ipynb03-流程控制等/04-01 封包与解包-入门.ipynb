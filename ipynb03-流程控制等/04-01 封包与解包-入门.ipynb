{
 "cells": [
  {
   "cell_type": "markdown",
   "metadata": {},
   "source": [
    "### 封包与解包，单双星号的用法"
   ]
  },
  {
   "cell_type": "code",
   "execution_count": 14,
   "metadata": {},
   "outputs": [
    {
     "name": "stdout",
     "output_type": "stream",
     "text": [
      "\n",
      "● 列表如何解包\n",
      "first: 0\n",
      "rest: []\n",
      "\n",
      "●进阶\n",
      "first: 0\n",
      "middle: []\n",
      "last: 1\n"
     ]
    }
   ],
   "source": [
    "print('\\n● 列表如何解包')\n",
    "list01 = [0, 1, 2, 3, 4, 5]\n",
    "list01 = [0] # 不出错\n",
    "# list01 = [] # 会出错\n",
    "# first, second = list01 # 变量数量必须与右侧元素数量一致\n",
    "first, *rest = list01 # 即使右侧列表只有1个元素，也会顺利解包（rest 为空列表）\n",
    "\n",
    "print('first:', first)\n",
    "print('rest:', rest)\n",
    "\n",
    "print('\\n●进阶')\n",
    "list02 = [0, 1] # 顺利执行\n",
    "# list02 = [0] # 会报错\n",
    "first, *middle, last = list02\n",
    "\n",
    "print('first:', first)\n",
    "print('middle:', middle) # 空列表\n",
    "print('last:', last)\n",
    "\n"
   ]
  },
  {
   "cell_type": "code",
   "execution_count": 2,
   "metadata": {},
   "outputs": [
    {
     "name": "stdout",
     "output_type": "stream",
     "text": [
      "字符拆包： H ['e', 'l', 'l', 'o']\n",
      "元组拆包： 已婚 ['未婚']\n"
     ]
    }
   ],
   "source": [
    "# 注：上述规则适用于所有序列（sequeence）\n",
    "str01 = 'Hello'\n",
    "tuple01 = ('已婚', '未婚')\n",
    "sFirst, *sRest = str01\n",
    "tFirst, *tRest = tuple01\n",
    "print('字符拆包：', sFirst, sRest)\n",
    "print('元组拆包：', tFirst, tRest)\n",
    "\n"
   ]
  },
  {
   "cell_type": "code",
   "execution_count": 4,
   "metadata": {},
   "outputs": [
    {
     "name": "stdout",
     "output_type": "stream",
     "text": [
      "\n",
      "● 字典如何解包\n",
      "字典解包取键不取值： name age\n"
     ]
    }
   ],
   "source": [
    "print('\\n● 字典如何解包')\n",
    "d01 = {'name': 'John Doe', 'age': 18}\n",
    "aa, bb = d01 # 左侧“变量数量”一定要与“字典键数量”相同，否则报错\n",
    "\n",
    "print('字典解包取键不取值：', aa, bb)\n"
   ]
  },
  {
   "cell_type": "code",
   "execution_count": 15,
   "metadata": {},
   "outputs": [
    {
     "name": "stdout",
     "output_type": "stream",
     "text": [
      "('a', 1) ('b', 2) ('c', 3) "
     ]
    }
   ],
   "source": [
    "a = ['a', 'b', 'c']\n",
    "b = [1, 2, 3]\n",
    "for idx in zip(a, b):\n",
    "    print(idx, end=' ')\n",
    "\n"
   ]
  }
 ],
 "metadata": {
  "interpreter": {
   "hash": "3196968d684371006099b3d55edeef8ed90365227a30deaef86e5d4aa8519be0"
  },
  "kernelspec": {
   "display_name": "Python 3.10.2 64-bit",
   "language": "python",
   "name": "python3"
  },
  "language_info": {
   "codemirror_mode": {
    "name": "ipython",
    "version": 3
   },
   "file_extension": ".py",
   "mimetype": "text/x-python",
   "name": "python",
   "nbconvert_exporter": "python",
   "pygments_lexer": "ipython3",
   "version": "3.10.2"
  },
  "orig_nbformat": 4
 },
 "nbformat": 4,
 "nbformat_minor": 2
}
