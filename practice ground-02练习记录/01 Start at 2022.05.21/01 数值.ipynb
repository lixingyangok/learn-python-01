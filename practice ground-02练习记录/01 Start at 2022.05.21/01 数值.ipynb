{
 "cells": [
  {
   "cell_type": "markdown",
   "metadata": {},
   "source": [
    "**数值类型**"
   ]
  },
  {
   "cell_type": "code",
   "execution_count": 12,
   "metadata": {},
   "outputs": [
    {
     "name": "stdout",
     "output_type": "stream",
     "text": [
      "● isinstance()\n",
      "True\n",
      "True\n",
      "\n",
      "● type()\n",
      "True\n",
      "True\n",
      "\n",
      "● 人类视角：\n",
      "是否为整数？ True\n",
      "是否为整数？ True\n",
      "是否为整数？ False\n",
      "\n",
      "● 为什么说值同类型不同？\n",
      "True\n",
      "False\n"
     ]
    }
   ],
   "source": [
    "# 如何判断一个数值是整形和浮点型？有2种方法\n",
    "\n",
    "print('● isinstance()')\n",
    "print(isinstance(1, int))\n",
    "print(isinstance(1.0, float))\n",
    "\n",
    "print('\\n● type()')\n",
    "print(type(2) == int)\n",
    "print(type(2.0) == float)\n",
    "\n",
    "# 同上（从人类视角）\n",
    "print('\\n● 人类视角：')\n",
    "print('是否为整数？', 0.0 % 1 == 0)\n",
    "print('是否为整数？', 5.0 % 1 == 0)\n",
    "print('是否为整数？', 5.5 % 1 == 0)\n",
    "\n",
    "# 为什么说值同类型不同？\n",
    "print('\\n● 为什么说值同类型不同？')\n",
    "print(1 == 1.0)\n",
    "print(type(1) == type(1.0))\n",
    "\n",
    "\n"
   ]
  },
  {
   "cell_type": "code",
   "execution_count": 22,
   "metadata": {},
   "outputs": [
    {
     "name": "stdout",
     "output_type": "stream",
     "text": [
      "上进： 2\n",
      "下退 01： 9\n",
      "下退 02： 9\n",
      "下退 03： 9.0\n",
      "\n",
      "● 四舍五入取整\n",
      "3\n",
      "4\n"
     ]
    }
   ],
   "source": [
    "# 如何取整？\n",
    "# 01 下退三途，上进一法 --------\n",
    "\n",
    "import math\n",
    "\n",
    "print('上进：', math.ceil(1.001))\n",
    "print('下退 01：', math.floor(9.999))\n",
    "print('下退 02：', int(9.999))\n",
    "print('下退 03：', 9.999 // 1)\n",
    "\n",
    "# 02 四舍五入取整\n",
    "print('\\n● 四舍五入取整')\n",
    "print(round(10 / 3))\n",
    "print(round(11 / 3))\n",
    "\n"
   ]
  },
  {
   "cell_type": "code",
   "execution_count": 26,
   "metadata": {},
   "outputs": [
    {
     "name": "stdout",
     "output_type": "stream",
     "text": [
      "● \n",
      " 如何保留x位小数？\n",
      "3.14\n",
      "3.142\n",
      "● \n",
      " 将小数点后的仅有的若干个零都保留\n",
      "18.00\n"
     ]
    }
   ],
   "source": [
    "# 如何保留x位小数？\n",
    "# 同上，且将小数点后的仅有的若干个零都保留\n",
    "\n",
    "PiValue = 3.14159\n",
    "ageValue = 18.0\n",
    "\n",
    "print('● \\n 如何保留x位小数？')\n",
    "print(round(PiValue, 2))\n",
    "print(round(PiValue, 3))\n",
    "\n",
    "print('● \\n 将小数点后的仅有的若干个零都保留')\n",
    "print(f'{ageValue:.2f}')\n",
    "\n"
   ]
  },
  {
   "cell_type": "code",
   "execution_count": 55,
   "metadata": {},
   "outputs": [
    {
     "name": "stdout",
     "output_type": "stream",
     "text": [
      "\n",
      "● 1 类js方式\n",
      "0.001558527867627113\n",
      "\n",
      "● 2 指定结果范围\n",
      "1.8633200950833912\n",
      "\n",
      "● 3 仅要整数\n",
      "5\n",
      "\n",
      "● 4 只要奇/偶数\n"
     ]
    }
   ],
   "source": [
    "# 如何取得随机数？\n",
    "import random\n",
    "\n",
    "print('\\n● 1 类js方式')\n",
    "print(random.random())\n",
    "\n",
    "print('\\n● 2 指定结果范围')\n",
    "print(random.uniform(1, 2))\n",
    "\n",
    "print('\\n● 3 仅要整数')\n",
    "print(random.randint(1, 9))\n",
    "\n",
    "print('\\n● 4 只要奇/偶数')\n",
    "print(random.randint(1, 9))\n"
   ]
  },
  {
   "cell_type": "code",
   "execution_count": null,
   "metadata": {},
   "outputs": [],
   "source": [
    "# random 包的其它功能（处理数组）\n",
    "'''\n",
    "1、翻拍选妃\n",
    "2、洗牌\n",
    "'''\n",
    "\n",
    "\n"
   ]
  }
 ],
 "metadata": {
  "interpreter": {
   "hash": "3196968d684371006099b3d55edeef8ed90365227a30deaef86e5d4aa8519be0"
  },
  "kernelspec": {
   "display_name": "Python 3.10.2 64-bit",
   "language": "python",
   "name": "python3"
  },
  "language_info": {
   "codemirror_mode": {
    "name": "ipython",
    "version": 3
   },
   "file_extension": ".py",
   "mimetype": "text/x-python",
   "name": "python",
   "nbconvert_exporter": "python",
   "pygments_lexer": "ipython3",
   "version": "3.10.2"
  },
  "orig_nbformat": 4
 },
 "nbformat": 4,
 "nbformat_minor": 2
}
