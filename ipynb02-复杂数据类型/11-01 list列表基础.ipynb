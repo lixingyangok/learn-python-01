{
 "cells": [
  {
   "cell_type": "markdown",
   "metadata": {},
   "source": [
    "### list 列表  \n",
    "在此研究如何创建数据，以及如何一些查验工作\n"
   ]
  },
  {
   "cell_type": "code",
   "execution_count": 25,
   "metadata": {},
   "outputs": [
    {
     "name": "stdout",
     "output_type": "stream",
     "text": [
      "\n",
      "● 如何用 range 生成列表？\n",
      "生成的是迭代器： range(0, 5)\n",
      "迭代器转为列表01： [0, 1, 2, 3, 4]\n",
      "迭代器转为列表02： [10, 13, 16, 19]\n",
      "\n",
      "● 如何用列表生成器生成列表？\n",
      "[0, 1, 2, 3, 4]\n",
      "[1, 3]\n",
      "\n",
      "● 扩展：也能生成字典\n",
      "{'A0': 10.5, 'A1': 11.5, 'A2': 12.5, 'A3': 13.5, 'A4': 14.5}\n"
     ]
    }
   ],
   "source": [
    "print('\\n● 如何用 range 生成列表？')\n",
    "l01 = range(5)\n",
    "l02 = list(range(5))\n",
    "print('生成的是迭代器：', l01)\n",
    "print('迭代器转为列表01：', l02)\n",
    "print('迭代器转为列表02：', list(range(10, 20, 3)))\n",
    "\n",
    "\n",
    "print('\\n● 如何用列表生成器生成列表？')\n",
    "list01 = [idx for idx in range(5)]\n",
    "list02 = [idx for idx in range(5) if idx % 2] # 添加过滤条件\n",
    "print(list01)\n",
    "print(list02)\n",
    "\n",
    "print('\\n● 扩展：也能生成字典')\n",
    "d01 = {f'A{key}': val + 0.5 for key, val in enumerate(range(10, 15))}\n",
    "print(d01)\n",
    "\n"
   ]
  },
  {
   "cell_type": "code",
   "execution_count": 9,
   "metadata": {},
   "outputs": [
    {
     "name": "stdout",
     "output_type": "stream",
     "text": [
      "数组相加： ['A', 'B', 'C', 'D']\n",
      "数组乘法： [0, 0, 0]\n",
      "\n",
      "val None\n"
     ]
    }
   ],
   "source": [
    "# 列表加法，列表乘法\n",
    "list00 = ['A', 'B'] + ['C', 'D']\n",
    "list01 = [0] * 3\n",
    "print('数组相加：', list00)\n",
    "print('数组乘法：', list01)\n",
    "print()\n",
    "\n",
    "# 禁忌，操作不存在的下标（读or写都被禁止）\n",
    "list01 = [0, 1, 2]\n",
    "# print(list01[3]) # 读报错\n",
    "# list01[3] = 3 # 写入报错\n",
    "val01 = dict(enumerate(list01)).get(3) # 安全的取列表下标\n",
    "print('val01', val01)\n"
   ]
  },
  {
   "cell_type": "code",
   "execution_count": 1,
   "metadata": {},
   "outputs": [
    {
     "name": "stdout",
     "output_type": "stream",
     "text": [
      "列表长度： 6\n",
      "头部： 0 [0, 1]\n",
      "尾部： 5 [4, 5]\n",
      "中部： [2, 3]\n",
      "翻转： [5, 4, 3, 2, 1, 0]\n"
     ]
    }
   ],
   "source": [
    "# \n",
    "list01 = [0,1,2,3,4,5]\n",
    "\n",
    "print('列表长度：', len(list01))\n",
    "print('头部：', list01[0], list01[:2])\n",
    "print('尾部：', list01[-1], list01[-2:])\n",
    "print('中部：', list01[2: 2+2])\n",
    "print('翻转：', list01[::-1])\n"
   ]
  },
  {
   "cell_type": "code",
   "execution_count": 10,
   "metadata": {},
   "outputs": [
    {
     "name": "stdout",
     "output_type": "stream",
     "text": [
      "是否包含某值： True\n",
      "是否包含某值： True\n",
      "是否包含某值： True\n",
      "\n",
      "是否包含某值： True\n",
      "是否包含某值： False\n"
     ]
    }
   ],
   "source": [
    "# 如何判断列表是否包含某值?\n",
    "list01 = [0,1,2,3,4,5]\n",
    "list02 = [['a', 'b'], ['c', 'd']]\n",
    "\n",
    "print('是否包含某值：', 0 in list01)\n",
    "print('是否包含某值：', 0.0 in list01) # 说明 0.0 == 0\n",
    "print('是否包含某值：', 99 not in list01)\n",
    "\n",
    "print('\\n是否包含某值：', ['a', 'b'] in list02) # True （这一点很牛）\n",
    "print('是否包含某值：', ['b', 'a'] in list02) # False\n"
   ]
  },
  {
   "cell_type": "code",
   "execution_count": 14,
   "metadata": {},
   "outputs": [
    {
     "name": "stdout",
     "output_type": "stream",
     "text": [
      "找位置： 1\n"
     ]
    }
   ],
   "source": [
    "# 如何判断元素在列表中的位置？\n",
    "\n",
    "list01 = ['Apple', 'Pear', 'Grape']\n",
    "\n",
    "print('找位置：', list01.index('Pear'))\n",
    "# print('找位置：', list01.index('ABC')) # 搜索不存在的值，报错！\n"
   ]
  }
 ],
 "metadata": {
  "interpreter": {
   "hash": "3196968d684371006099b3d55edeef8ed90365227a30deaef86e5d4aa8519be0"
  },
  "kernelspec": {
   "display_name": "Python 3.10.2 64-bit",
   "language": "python",
   "name": "python3"
  },
  "language_info": {
   "codemirror_mode": {
    "name": "ipython",
    "version": 3
   },
   "file_extension": ".py",
   "mimetype": "text/x-python",
   "name": "python",
   "nbconvert_exporter": "python",
   "pygments_lexer": "ipython3",
   "version": "3.10.2"
  },
  "orig_nbformat": 4
 },
 "nbformat": 4,
 "nbformat_minor": 2
}
