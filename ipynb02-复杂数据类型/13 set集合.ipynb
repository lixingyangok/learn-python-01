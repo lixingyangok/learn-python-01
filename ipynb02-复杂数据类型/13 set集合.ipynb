{
 "cells": [
  {
   "cell_type": "code",
   "execution_count": 8,
   "metadata": {},
   "outputs": [
    {
     "name": "stdout",
     "output_type": "stream",
     "text": [
      "s01:  {9, 2, 333, 1}\n",
      "s02:  {1, 2, 3, 4}\n"
     ]
    }
   ],
   "source": [
    "s01 = {9, 9, 1, 2, 333} # 这东西是无序的，内容不重复的\n",
    "s02 = {val for val in range(1,5)} # NB 666\n",
    "\n",
    "print('s01: ', s01)\n",
    "print('s02: ', s02)\n",
    "\n"
   ]
  },
  {
   "cell_type": "code",
   "execution_count": 15,
   "metadata": {},
   "outputs": [
    {
     "name": "stdout",
     "output_type": "stream",
     "text": [
      "\n",
      "● 如何删除集合内的元素？\n",
      "s01: {'C', 'B', 'A'}\n",
      "查询长度： 3\n"
     ]
    },
    {
     "ename": "TypeError",
     "evalue": "'set' object is not subscriptable",
     "output_type": "error",
     "traceback": [
      "\u001b[1;31m---------------------------------------------------------------------------\u001b[0m",
      "\u001b[1;31mTypeError\u001b[0m                                 Traceback (most recent call last)",
      "\u001b[1;32md:\\github\\learn-python-01\\ipynb02-复杂数据类型\\13 set集合.ipynb Cell 2'\u001b[0m in \u001b[0;36m<module>\u001b[1;34m\u001b[0m\n\u001b[0;32m      <a href='vscode-notebook-cell:/d%3A/github/learn-python-01/ipynb02-%E5%A4%8D%E6%9D%82%E6%95%B0%E6%8D%AE%E7%B1%BB%E5%9E%8B/13%20set%E9%9B%86%E5%90%88.ipynb#ch0000001?line=5'>6</a>\u001b[0m \u001b[39mprint\u001b[39m(\u001b[39m'\u001b[39m\u001b[39ms01:\u001b[39m\u001b[39m'\u001b[39m, s01)\n\u001b[0;32m      <a href='vscode-notebook-cell:/d%3A/github/learn-python-01/ipynb02-%E5%A4%8D%E6%9D%82%E6%95%B0%E6%8D%AE%E7%B1%BB%E5%9E%8B/13%20set%E9%9B%86%E5%90%88.ipynb#ch0000001?line=6'>7</a>\u001b[0m \u001b[39mprint\u001b[39m(\u001b[39m'\u001b[39m\u001b[39m查询长度：\u001b[39m\u001b[39m'\u001b[39m, \u001b[39mlen\u001b[39m(s01))\n\u001b[1;32m----> <a href='vscode-notebook-cell:/d%3A/github/learn-python-01/ipynb02-%E5%A4%8D%E6%9D%82%E6%95%B0%E6%8D%AE%E7%B1%BB%E5%9E%8B/13%20set%E9%9B%86%E5%90%88.ipynb#ch0000001?line=7'>8</a>\u001b[0m \u001b[39mprint\u001b[39m(\u001b[39m'\u001b[39m\u001b[39m读取下标：\u001b[39m\u001b[39m'\u001b[39m, s01[\u001b[39m0\u001b[39;49m])\n",
      "\u001b[1;31mTypeError\u001b[0m: 'set' object is not subscriptable"
     ]
    }
   ],
   "source": [
    "print('\\n● 如何删除集合内的元素？')\n",
    "s01 = {'A', 'B'} \n",
    "s01.add('B') # 每次只能插入1个元素\n",
    "s01.add('C')\n",
    "\n",
    "print('s01:', s01)\n",
    "print('查询长度：', len(s01))\n",
    "# print('读取下标：', s01[0]) # 报错\n",
    "\n",
    "\n"
   ]
  }
 ],
 "metadata": {
  "interpreter": {
   "hash": "3196968d684371006099b3d55edeef8ed90365227a30deaef86e5d4aa8519be0"
  },
  "kernelspec": {
   "display_name": "Python 3.10.2 64-bit",
   "language": "python",
   "name": "python3"
  },
  "language_info": {
   "codemirror_mode": {
    "name": "ipython",
    "version": 3
   },
   "file_extension": ".py",
   "mimetype": "text/x-python",
   "name": "python",
   "nbconvert_exporter": "python",
   "pygments_lexer": "ipython3",
   "version": "3.10.2"
  },
  "orig_nbformat": 4
 },
 "nbformat": 4,
 "nbformat_minor": 2
}
