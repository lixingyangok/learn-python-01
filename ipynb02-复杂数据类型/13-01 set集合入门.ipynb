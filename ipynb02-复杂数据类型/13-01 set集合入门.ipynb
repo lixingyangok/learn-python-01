{
 "cells": [
  {
   "cell_type": "code",
   "execution_count": 38,
   "metadata": {},
   "outputs": [
    {
     "name": "stdout",
     "output_type": "stream",
     "text": [
      "\n",
      "● 如何创建集合？\n",
      "s01:  {9, 2, 333, 1}\n",
      "s02:  {1, 2, 3, 4}\n",
      "s03:  {'B', 'A'}\n",
      "s04:  {1, 2}\n"
     ]
    }
   ],
   "source": [
    "print('\\n● 如何创建集合？')\n",
    "print('\\n● 如何创建集合？')\n",
    "\n",
    "s00 = set() # 创建空集合，因为用 {} 将创建字典\n",
    "s01 = {9, 9, 1, 2, 333} # 内含的成员是无序的、唯一的、不会重复的\n",
    "s02 = {val for val in range(1,5)} # 用生成器来创建集合 NB 666\n",
    "s03 = set(['A', 'A', 'B', 'B']) # 通过列表创建\n",
    "s04 = set({1,1,2,2}) # 通过元组创建\n",
    "\n",
    "print('s01: ', s01)\n",
    "print('s02: ', s02)\n",
    "print('s03: ', s03)\n",
    "print('s04: ', s04)\n"
   ]
  },
  {
   "cell_type": "code",
   "execution_count": 3,
   "metadata": {},
   "outputs": [
    {
     "name": "stdout",
     "output_type": "stream",
     "text": [
      "\n",
      "● 如何观察集合？\n",
      "查看集合长度： 0 2\n",
      "查看包含性： True\n"
     ]
    }
   ],
   "source": [
    "print('\\n● 如何观察集合？')\n",
    "\n",
    "s00 = set()\n",
    "s01 = {1, 1, 2}\n",
    "print('查看集合的长度：', len(s00), len(s01))\n",
    "print('查看值的包含性：', 1 in s01)\n",
    "\n"
   ]
  },
  {
   "cell_type": "code",
   "execution_count": 27,
   "metadata": {},
   "outputs": [
    {
     "name": "stdout",
     "output_type": "stream",
     "text": [
      "\n",
      "● 如何“增加”集合的成员？\n",
      "s01: {'B', 'C', 'D', 'A'}\n"
     ]
    }
   ],
   "source": [
    "print('\\n● 如何“增加”集合的成员？')\n",
    "\n",
    "s01 = {'A'} \n",
    "s01.add('A') # 每次只能插入1个元素\n",
    "s01.update('B', 'C') # 批量插入\n",
    "s01.update(['B', 'C', 'D']) # 批量插入\n",
    "s02 = {'X', 'Y', 'Z'}\n",
    "\n",
    "print('s01:', s01)\n",
    "\n",
    "# print('不可相加:', s01 + s02) # 报错\n",
    "# print('不可读取下标：', s01[0]) # 报错\n",
    "# 扩展，能取下标的数据类型有：字符，列表，元组 ★★★\n"
   ]
  },
  {
   "cell_type": "code",
   "execution_count": 32,
   "metadata": {},
   "outputs": [
    {
     "name": "stdout",
     "output_type": "stream",
     "text": [
      "\n",
      "● 如何“移除”集合的成员？\n",
      "清空： set() 0\n",
      "随机删除一个： 苹果\n",
      "删除之后形态： {'Z', '香蕉'}\n"
     ]
    }
   ],
   "source": [
    "print('\\n● 如何“移除”集合的成员？')\n",
    "s01 = {'A'} \n",
    "s01.clear()\n",
    "print('清空：', s01, len(s01))\n",
    "\n",
    "\n",
    "s02 = {'苹果', '香蕉', 'X', 'Y', 'Z'} \n",
    "s02.remove('X') # 删除不存在的值，报错！\n",
    "s02.discard('Y') # 同上\n",
    "poped = s02.pop() # 操作空集合，报错！\n",
    "\n",
    "print('随机删除一个：', poped)\n",
    "print('删除之后形态：', s02)\n",
    "\n"
   ]
  },
  {
   "cell_type": "code",
   "execution_count": 37,
   "metadata": {},
   "outputs": [
    {
     "name": "stdout",
     "output_type": "stream",
     "text": [
      "转化为列表： ['X', '苹果', 'Y', 'Z', '香蕉']\n"
     ]
    }
   ],
   "source": [
    "s01 = {'苹果', '香蕉', 'X', 'Y', 'Z'} \n",
    "l01 = list(s01)\n",
    "\n",
    "print('转化为列表：', l01)\n"
   ]
  }
 ],
 "metadata": {
  "interpreter": {
   "hash": "3196968d684371006099b3d55edeef8ed90365227a30deaef86e5d4aa8519be0"
  },
  "kernelspec": {
   "display_name": "Python 3.10.2 64-bit",
   "language": "python",
   "name": "python3"
  },
  "language_info": {
   "codemirror_mode": {
    "name": "ipython",
    "version": 3
   },
   "file_extension": ".py",
   "mimetype": "text/x-python",
   "name": "python",
   "nbconvert_exporter": "python",
   "pygments_lexer": "ipython3",
   "version": "3.10.2"
  },
  "orig_nbformat": 4
 },
 "nbformat": 4,
 "nbformat_minor": 2
}
