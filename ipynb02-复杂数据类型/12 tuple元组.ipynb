{
 "cells": [
  {
   "cell_type": "code",
   "execution_count": 31,
   "metadata": {},
   "outputs": [
    {
     "name": "stdout",
     "output_type": "stream",
     "text": [
      "元组00： (11,)\n",
      "元组01： ('A', 'B', 'C')\n",
      "元组02： (10, 11, 12, 13, 14)\n",
      "元组03： (100, 101, 102, 103, 104)\n"
     ]
    }
   ],
   "source": [
    "# 如何生成元组？\n",
    "t00 = (11,) # 手工创建（如果只有1个成员，尾部需要逗号）\n",
    "t01 = tuple(['A', 'B', 'C']) # 列表转化（可互相转化）\n",
    "t02 = tuple(range(10, 15)) # range 生成\n",
    "t03 = tuple(idx for idx in range(100, 105)) # 生成器写法\n",
    "print('元组00：', t00)\n",
    "print('元组01：', t01)\n",
    "print('元组02：', t02)\n",
    "print('元组03：', t03)\n"
   ]
  },
  {
   "cell_type": "code",
   "execution_count": 30,
   "metadata": {},
   "outputs": [
    {
     "name": "stdout",
     "output_type": "stream",
     "text": [
      "\n",
      "● 与列表相同点有哪些？\n",
      "长度： 3\n",
      "存在性查询： True\n",
      "取值与截取： A ('A', 'B')\n",
      "\n",
      "遍历01：A,  B,  C,  \n",
      "遍历02：0-A,  1-B,  2-C,  "
     ]
    }
   ],
   "source": [
    "print('\\n● 与列表相同点有哪些？')\n",
    "print('长度：', len(t01))\n",
    "print('存在性查询：', 'A' in t01)\n",
    "print('取值与截取：', t01[0], t01[:-1])\n",
    "\n",
    "print('\\n遍历01：', end='')\n",
    "for cur in t01:\n",
    "    print(cur, end=',  ')\n",
    "\n",
    "print('\\n遍历02：', end='')\n",
    "for idx, val in enumerate(t01):\n",
    "    print(f'{idx}-{val}', end=',  ')\n"
   ]
  },
  {
   "cell_type": "code",
   "execution_count": 34,
   "metadata": {},
   "outputs": [
    {
     "name": "stdout",
     "output_type": "stream",
     "text": [
      "\n",
      "● 与列表的不同是什么？\n",
      "('apple', 'banana', 'cherry')\n"
     ]
    }
   ],
   "source": [
    "print('\\n● 与列表的不同是什么？')\n",
    "# 成员不能被修改、删除、新增\n",
    "# 可转为 list 修改之后再转回来\n",
    "\n",
    "thistuple = (\"apple\", \"banana\", \"cherry\")\n",
    "print(thistuple)\n",
    "del thistuple # 可以整个删除\n",
    "# print(thistuple) # 这会引发错误，因为元组已不存在。\n"
   ]
  }
 ],
 "metadata": {
  "interpreter": {
   "hash": "3196968d684371006099b3d55edeef8ed90365227a30deaef86e5d4aa8519be0"
  },
  "kernelspec": {
   "display_name": "Python 3.10.2 64-bit",
   "language": "python",
   "name": "python3"
  },
  "language_info": {
   "codemirror_mode": {
    "name": "ipython",
    "version": 3
   },
   "file_extension": ".py",
   "mimetype": "text/x-python",
   "name": "python",
   "nbconvert_exporter": "python",
   "pygments_lexer": "ipython3",
   "version": "3.10.2"
  },
  "orig_nbformat": 4
 },
 "nbformat": 4,
 "nbformat_minor": 2
}
