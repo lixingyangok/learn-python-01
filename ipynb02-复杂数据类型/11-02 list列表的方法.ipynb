{
 "cells": [
  {
   "cell_type": "markdown",
   "metadata": {},
   "source": [
    "### list 列表  \n",
    "如何添加元素，如何删除元素，等变更性操作"
   ]
  },
  {
   "cell_type": "code",
   "execution_count": 7,
   "metadata": {},
   "outputs": [
    {
     "name": "stdout",
     "output_type": "stream",
     "text": [
      "\n",
      "● 如何添加内容到列表头部？\n",
      "['A', 'B', '玉帝', '唐僧']\n",
      "\n",
      "● 尾部？\n",
      "['A', 'B', 'C']\n"
     ]
    }
   ],
   "source": [
    "print('\\n● 如何添加内容到列表头部？')\n",
    "list00 = ['唐僧']\n",
    "list00.insert(0, '玉帝')\n",
    "# list00.insert(0, 'A', 'B') # 会报错（只能添加1个）\n",
    "list00 = ['A', 'B'] + list00\n",
    "print(list00)\n",
    "\n",
    "\n",
    "print('\\n● 尾部？')\n",
    "list01 = []\n",
    "list01.append('A')\n",
    "# list01.append('A', 'B') # 会报错（只能每次添加1个成员）\n",
    "list01 += ['B', 'C'] # 可以在尾部添加多个\n",
    "print(list01)\n",
    "\n"
   ]
  },
  {
   "cell_type": "code",
   "execution_count": 18,
   "metadata": {},
   "outputs": [
    {
     "name": "stdout",
     "output_type": "stream",
     "text": [
      "原始列表： ['A', 'B', 'C']\n",
      "删除了： C\n",
      "删除之后： ['B']\n",
      "\n",
      "原始字典:  {'name': 'Mr. A', 'age': 18, 1: 111}\n",
      "删除之后:  {'name': 'Mr. A'}\n"
     ]
    }
   ],
   "source": [
    "# 如何删除元素\n",
    "\n",
    "l01 = ['A', 'B', 'C']\n",
    "print('原始列表：', l01)\n",
    "# l01.pop(9) # 报错（不能超限操作）\n",
    "l01.pop(0) # 删除某一个元素\n",
    "vBack = l01.pop(-1) # 删除最后一个\n",
    "print('删除了：', vBack)\n",
    "print('删除之后：', l01)\n",
    "\n",
    "# 扩展：pop 也能删除 dict 的键\n",
    "JohnDoe = {'name': 'Mr. A', 'age': 18, 1: 111}\n",
    "print('\\n原始字典: ', JohnDoe)\n",
    "JohnDoe.pop('age') # 可行（但不能超限删除，删除不存在的键将报错）\n",
    "JohnDoe.pop(1)\n",
    "print('删除之后: ', JohnDoe)\n",
    "\n"
   ]
  },
  {
   "cell_type": "code",
   "execution_count": 2,
   "metadata": {},
   "outputs": [
    {
     "name": "stdout",
     "output_type": "stream",
     "text": [
      "list01 [1, 3, 5, 7]\n",
      "list02 <map object at 0x0000026B149CB220>\n",
      "list03 [10, 30, 50, 70]\n"
     ]
    }
   ],
   "source": [
    "# map 方法\n",
    "\n",
    "list01 = [1, 2, 3, 4]\n",
    "list02 = map(lambda val: val * 10, list01) # 返回一个 map object\n",
    "list03 = list(list02) \n",
    "\n",
    "print('list01', list01)\n",
    "print('list02', list02)\n",
    "print('list03', list03)\n",
    "\n"
   ]
  },
  {
   "cell_type": "code",
   "execution_count": null,
   "metadata": {},
   "outputs": [],
   "source": [
    "print('\\n● 如何排序？')\n",
    "\n",
    "\n",
    "print('\\n● 如果成员全是字典如何排序？')"
   ]
  }
 ],
 "metadata": {
  "interpreter": {
   "hash": "3196968d684371006099b3d55edeef8ed90365227a30deaef86e5d4aa8519be0"
  },
  "kernelspec": {
   "display_name": "Python 3.10.2 64-bit",
   "language": "python",
   "name": "python3"
  },
  "language_info": {
   "codemirror_mode": {
    "name": "ipython",
    "version": 3
   },
   "file_extension": ".py",
   "mimetype": "text/x-python",
   "name": "python",
   "nbconvert_exporter": "python",
   "pygments_lexer": "ipython3",
   "version": "3.10.2"
  },
  "orig_nbformat": 4
 },
 "nbformat": 4,
 "nbformat_minor": 2
}
