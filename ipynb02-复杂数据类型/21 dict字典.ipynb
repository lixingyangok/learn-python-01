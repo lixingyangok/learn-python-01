{
 "cells": [
  {
   "cell_type": "markdown",
   "metadata": {},
   "source": [
    "### 字典\n"
   ]
  },
  {
   "cell_type": "code",
   "execution_count": 8,
   "metadata": {},
   "outputs": [
    {
     "name": "stdout",
     "output_type": "stream",
     "text": [
      "{'name': '张三', 'age': 18, 100: 200, ('男', '女', '其它'): '元组为键'}\n",
      "{0: 'A', 1: 'B', 2: 'C'}\n"
     ]
    }
   ],
   "source": [
    "tuple01 = ('男', '女', '其它')\n",
    "age = 'age'\n",
    "d01 = {\n",
    "    'name': '张三', # 键名应为字符\n",
    "    age: 18, # 变量也行\n",
    "    100: 200, # 数值也行\n",
    "    ('男', '女', '其它'): '元组为键',\n",
    "}\n",
    "d02 = {\n",
    "    idx: val  for idx, val in enumerate('ABC')\n",
    "}\n",
    "\n",
    "print(d01)\n",
    "print(d02)\n"
   ]
  },
  {
   "cell_type": "code",
   "execution_count": 9,
   "metadata": {},
   "outputs": [
    {
     "name": "stdout",
     "output_type": "stream",
     "text": [
      "字典也有长度： 2\n",
      "字典转字符（JSON）： {'name': 'John Doe', 'age': 18}\n",
      "查看字典是否有某键 True\n"
     ]
    }
   ],
   "source": [
    "d01 = {'name': 'John Doe', 'age': 18}\n",
    "\n",
    "print('字典也有长度：', len(d01))\n",
    "print('字典转字符（JSON）：', str(d01))\n",
    "print('查看字典是否有某键', 'age' in d01) # 目前没有办法查询字典是否有某值\n",
    "\n",
    "\n"
   ]
  }
 ],
 "metadata": {
  "kernelspec": {
   "display_name": "Python 3.10.2 64-bit",
   "language": "python",
   "name": "python3"
  },
  "language_info": {
   "codemirror_mode": {
    "name": "ipython",
    "version": 3
   },
   "file_extension": ".py",
   "mimetype": "text/x-python",
   "name": "python",
   "nbconvert_exporter": "python",
   "pygments_lexer": "ipython3",
   "version": "3.10.2"
  },
  "orig_nbformat": 4,
  "vscode": {
   "interpreter": {
    "hash": "3196968d684371006099b3d55edeef8ed90365227a30deaef86e5d4aa8519be0"
   }
  }
 },
 "nbformat": 4,
 "nbformat_minor": 2
}
