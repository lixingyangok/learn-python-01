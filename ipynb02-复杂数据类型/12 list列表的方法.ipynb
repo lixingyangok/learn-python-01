{
 "cells": [
  {
   "cell_type": "markdown",
   "metadata": {},
   "source": [
    "### list 列表"
   ]
  },
  {
   "cell_type": "code",
   "execution_count": 2,
   "metadata": {},
   "outputs": [
    {
     "name": "stdout",
     "output_type": "stream",
     "text": [
      "list01 [1, 3, 5, 7]\n",
      "list02 <map object at 0x0000026B149CB220>\n",
      "list03 [10, 30, 50, 70]\n"
     ]
    }
   ],
   "source": [
    "# map 方法\n",
    "\n",
    "list01 = [idx for idx in range(1,9) if idx % 2]\n",
    "list02 = map(lambda val: val * 10, list01) # 返回一个 map object\n",
    "list03 = list(list02) \n",
    "\n",
    "print('list01', list01)\n",
    "print('list02', list02)\n",
    "print('list03', list03)\n"
   ]
  },
  {
   "cell_type": "code",
   "execution_count": 10,
   "metadata": {},
   "outputs": [
    {
     "name": "stdout",
     "output_type": "stream",
     "text": [
      "原始数组 [1]\n",
      "\n",
      "头部追加： ['零', 1]\n",
      "\n",
      "尾部追加： ['零', 1, 2]\n",
      "头部追加（批量）： [-2, -1, '零', 1, 2]\n",
      "尾部追加（批量）： [-2, -1, '零', 1, 2, 3, 4]\n"
     ]
    }
   ],
   "source": [
    "# 插入元素\n",
    "\n",
    "l1 = [1]\n",
    "print('原始数组', l1)\n",
    "\n",
    "l1.insert(0, '零')\n",
    "print('\\n头部追加：', l1)\n",
    "l1.append(2)\n",
    "print('\\n尾部追加：', l1)\n",
    "# ▲只能插入1个\n",
    "\n",
    "l1 = [-2, -1] + l1\n",
    "print('头部追加（批量）：', l1)\n",
    "l1 += [3, 4]\n",
    "print('尾部追加（批量）：', l1)\n",
    "\n"
   ]
  },
  {
   "cell_type": "code",
   "execution_count": 3,
   "metadata": {},
   "outputs": [
    {
     "ename": "IndexError",
     "evalue": "pop index out of range",
     "output_type": "error",
     "traceback": [
      "\u001b[1;31m---------------------------------------------------------------------------\u001b[0m",
      "\u001b[1;31mIndexError\u001b[0m                                Traceback (most recent call last)",
      "\u001b[1;32md:\\github\\learn-python-01\\ipynb02-复杂数据类型\\12 list列表的方法.ipynb Cell 4'\u001b[0m in \u001b[0;36m<module>\u001b[1;34m\u001b[0m\n\u001b[0;32m      <a href='vscode-notebook-cell:/d%3A/github/learn-python-01/ipynb02-%E5%A4%8D%E6%9D%82%E6%95%B0%E6%8D%AE%E7%B1%BB%E5%9E%8B/12%20list%E5%88%97%E8%A1%A8%E7%9A%84%E6%96%B9%E6%B3%95.ipynb#ch0000003?line=2'>3</a>\u001b[0m l1 \u001b[39m=\u001b[39m [\u001b[39m0\u001b[39m, \u001b[39m1\u001b[39m]\n\u001b[0;32m      <a href='vscode-notebook-cell:/d%3A/github/learn-python-01/ipynb02-%E5%A4%8D%E6%9D%82%E6%95%B0%E6%8D%AE%E7%B1%BB%E5%9E%8B/12%20list%E5%88%97%E8%A1%A8%E7%9A%84%E6%96%B9%E6%B3%95.ipynb#ch0000003?line=4'>5</a>\u001b[0m l1\u001b[39m.\u001b[39mpop(\u001b[39m1\u001b[39m) \u001b[39m# 删除某位的元素\u001b[39;00m\n\u001b[1;32m----> <a href='vscode-notebook-cell:/d%3A/github/learn-python-01/ipynb02-%E5%A4%8D%E6%9D%82%E6%95%B0%E6%8D%AE%E7%B1%BB%E5%9E%8B/12%20list%E5%88%97%E8%A1%A8%E7%9A%84%E6%96%B9%E6%B3%95.ipynb#ch0000003?line=5'>6</a>\u001b[0m l1\u001b[39m.\u001b[39;49mpop(\u001b[39m2\u001b[39;49m) \u001b[39m# 删除某位的元素\u001b[39;00m\n\u001b[0;32m      <a href='vscode-notebook-cell:/d%3A/github/learn-python-01/ipynb02-%E5%A4%8D%E6%9D%82%E6%95%B0%E6%8D%AE%E7%B1%BB%E5%9E%8B/12%20list%E5%88%97%E8%A1%A8%E7%9A%84%E6%96%B9%E6%B3%95.ipynb#ch0000003?line=6'>7</a>\u001b[0m \u001b[39mprint\u001b[39m(\u001b[39m'\u001b[39m\u001b[39m删除：\u001b[39m\u001b[39m'\u001b[39m, l1)\n\u001b[0;32m      <a href='vscode-notebook-cell:/d%3A/github/learn-python-01/ipynb02-%E5%A4%8D%E6%9D%82%E6%95%B0%E6%8D%AE%E7%B1%BB%E5%9E%8B/12%20list%E5%88%97%E8%A1%A8%E7%9A%84%E6%96%B9%E6%B3%95.ipynb#ch0000003?line=8'>9</a>\u001b[0m \u001b[39m# 特别注意：pop 能删除 dict 的键\u001b[39;00m\n",
      "\u001b[1;31mIndexError\u001b[0m: pop index out of range"
     ]
    }
   ],
   "source": [
    "# 删除元素\n",
    "\n",
    "l1 = [0, 1]\n",
    "\n",
    "l1.pop(1) # 删除某位的元素\n",
    "# l1.pop(2) # 报错\n",
    "print('删除：', l1)\n",
    "\n",
    "# 特别注意：pop 能删除 dict 的键\n",
    "JohnDoe = {'name': 'Mr. A', 'age': 18, 1: 1}\n",
    "print('JohnDoe: ', JohnDoe)\n",
    "JohnDoe.pop('age') # 可行（但不能删除不存在的键）\n",
    "JohnDoe.pop(1)\n",
    "print('JohnDoe: ', JohnDoe)\n",
    "\n"
   ]
  }
 ],
 "metadata": {
  "interpreter": {
   "hash": "3196968d684371006099b3d55edeef8ed90365227a30deaef86e5d4aa8519be0"
  },
  "kernelspec": {
   "display_name": "Python 3.10.2 64-bit",
   "language": "python",
   "name": "python3"
  },
  "language_info": {
   "codemirror_mode": {
    "name": "ipython",
    "version": 3
   },
   "file_extension": ".py",
   "mimetype": "text/x-python",
   "name": "python",
   "nbconvert_exporter": "python",
   "pygments_lexer": "ipython3",
   "version": "3.10.2"
  },
  "orig_nbformat": 4
 },
 "nbformat": 4,
 "nbformat_minor": 2
}
