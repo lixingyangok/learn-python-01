{
 "cells": [
  {
   "cell_type": "markdown",
   "metadata": {},
   "source": [
    "### list 列表"
   ]
  },
  {
   "cell_type": "code",
   "execution_count": 4,
   "metadata": {},
   "outputs": [
    {
     "name": "stdout",
     "output_type": "stream",
     "text": [
      "列表长度： 6\n",
      "头部： 0 [0, 1]\n",
      "尾部： 5 [4, 5]\n",
      "中部： [2, 3]\n"
     ]
    }
   ],
   "source": [
    "# \n",
    "list01 = [0,1,2,3,4,5]\n",
    "\n",
    "print('列表长度：', len(list01))\n",
    "print('头部：', list01[0], list01[:2])\n",
    "print('尾部：', list01[-1], list01[-2:])\n",
    "print('中部：', list01[2: 2+2])\n"
   ]
  },
  {
   "cell_type": "code",
   "execution_count": 11,
   "metadata": {},
   "outputs": [
    {
     "name": "stdout",
     "output_type": "stream",
     "text": [
      "是否包含某值： True\n",
      "是否包含某值： True\n",
      "是否包含某值： True\n",
      "是否包含某值： True\n",
      "是否包含某值： False\n"
     ]
    }
   ],
   "source": [
    "# 如何判断列表是否包含某值?\n",
    "list01 = [0,1,2,3,4,5]\n",
    "list02 = [['a', 'b'], ['c', 'd']]\n",
    "\n",
    "print('是否包含某值：', 0 in list01)\n",
    "print('是否包含某值：', 0.0 in list01)\n",
    "print('是否包含某值：', 99 not in list01)\n",
    "\n",
    "print('是否包含某值：', ['a', 'b'] in list02) # True\n",
    "print('是否包含某值：', ['b', 'a'] in list02) # False\n"
   ]
  }
 ],
 "metadata": {
  "interpreter": {
   "hash": "4e0b39fdc4f2df2992ef135d097972ec225e019845a073717c5b1bc8df292c8a"
  },
  "kernelspec": {
   "display_name": "Python 3.10.2 64-bit",
   "language": "python",
   "name": "python3"
  },
  "language_info": {
   "codemirror_mode": {
    "name": "ipython",
    "version": 3
   },
   "file_extension": ".py",
   "mimetype": "text/x-python",
   "name": "python",
   "nbconvert_exporter": "python",
   "pygments_lexer": "ipython3",
   "version": "3.10.2"
  },
  "orig_nbformat": 4
 },
 "nbformat": 4,
 "nbformat_minor": 2
}
