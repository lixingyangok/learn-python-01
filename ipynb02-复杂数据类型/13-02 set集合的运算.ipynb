{
 "cells": [
  {
   "cell_type": "code",
   "execution_count": 2,
   "metadata": {},
   "outputs": [
    {
     "name": "stdout",
     "output_type": "stream",
     "text": [
      "\n",
      "● 如何创建集合？\n",
      "s01:  {9, 2, 333, 1}\n",
      "s02:  {1, 2, 3, 4}\n"
     ]
    }
   ],
   "source": [
    "print('\\n● 如何创建集合？')\n",
    "\n",
    "s00 = set() # 创建空集合，因为用 {} 将创建字典\n",
    "s01 = {9, 9, 1, 2, 333} # 内含的成员是无序的、唯一的、不会重复的\n",
    "s02 = {val for val in range(1,5)} # 用生成器来创建集合 NB 666\n",
    "\n",
    "print('s01: ', s01)\n",
    "print('s02: ', s02)\n",
    "\n"
   ]
  },
  {
   "cell_type": "code",
   "execution_count": 4,
   "metadata": {},
   "outputs": [
    {
     "name": "stdout",
     "output_type": "stream",
     "text": [
      "\n",
      "● 如何观察集合？\n",
      "集合长度： 0 2\n"
     ]
    }
   ],
   "source": [
    "print('\\n● 如何观察集合？')\n",
    "s00 = set()\n",
    "s01 = {1, 1, 2}\n",
    "print('集合长度：', len(s00), len(s01))\n"
   ]
  },
  {
   "cell_type": "code",
   "execution_count": 1,
   "metadata": {},
   "outputs": [
    {
     "name": "stdout",
     "output_type": "stream",
     "text": [
      "\n",
      "● 如何删除集合内的元素？\n",
      "s01: {'B', 'C', 'A'}\n",
      "查询长度： 3\n"
     ]
    }
   ],
   "source": [
    "print('\\n● 如何删除集合内的元素？')\n",
    "s01 = {'A', 'B'} \n",
    "s01.add('B') # 每次只能插入1个元素\n",
    "s01.add('C')\n",
    "\n",
    "print('s01:', s01)\n",
    "print('查询长度：', len(s01))\n",
    "# print('读取下标：', s01[0]) # 报错\n",
    "\n",
    "\n"
   ]
  }
 ],
 "metadata": {
  "interpreter": {
   "hash": "3196968d684371006099b3d55edeef8ed90365227a30deaef86e5d4aa8519be0"
  },
  "kernelspec": {
   "display_name": "Python 3.10.2 64-bit",
   "language": "python",
   "name": "python3"
  },
  "language_info": {
   "codemirror_mode": {
    "name": "ipython",
    "version": 3
   },
   "file_extension": ".py",
   "mimetype": "text/x-python",
   "name": "python",
   "nbconvert_exporter": "python",
   "pygments_lexer": "ipython3",
   "version": "3.10.2"
  },
  "orig_nbformat": 4
 },
 "nbformat": 4,
 "nbformat_minor": 2
}
